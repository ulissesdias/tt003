{
 "cells": [
  {
   "cell_type": "markdown",
   "id": "223ba1b1",
   "metadata": {},
   "source": [
    "**Universidade Estadual de Campinas - Unicamp**\n",
    "\n",
    "**Faculdade de Tecnologia - FT**\n",
    "\n",
    "**Autor:** Ulisses Martins Dias\n",
    "\n",
    "**Disciplina:** TT003 - Tópicos em Computação e Informática III\n",
    "\n",
    "**Aula 03:** Apresentação da Biblioteca Pytorch e Regressão Logística\n",
    "\n",
    "[![Open In Colab](https://colab.research.google.com/assets/colab-badge.svg)](https://colab.research.google.com/github/ulissesdias/tt003/blob/main/notebooks/aula03_pytorch_intro.ipynb)"
   ]
  },
  {
   "cell_type": "markdown",
   "id": "99d839cd",
   "metadata": {},
   "source": [
    "# Objetivo da Aula\n",
    "\n",
    "Queremos criar um oráculo e já fizemos progressos entendendo a noção de descida do gradiente. A descida do gradiente permite encontrar valores dos parâmetros de maneira mais eficiente do que uma busca exaustiva. Entretanto, muita coisa ainda pode ser melhorada na maneira como estamos escrevendo os nossos códigos, mas devemos realizar essas melhorias passo a passo. \n",
    "\n",
    "Na aula de hoje, vamos tentar escrever códigos mais eficientes usando uma biblioteca do python que nos permitirá tratar as estruturas de dados em memória de maneira mais eficiente. Posteriormente, na próxima aula, veremos que esta biblioteca ainda poderá nos ajudar computando o gradiente por nós. "
   ]
  },
  {
   "cell_type": "markdown",
   "id": "5f35e5c9",
   "metadata": {},
   "source": [
    "# PyTorch\n",
    "\n",
    "O PyTorch é uma biblioteca de aprendizado de máquina de código aberto usada em aprendizado de máquina, com grande suporte a *deep learning*. Essa biblioteca foi desenvolvida pelo laboratório de pesquisa de IA do Facebook. Uma das vantagens é que o PyTorch permite utilizar programação orientada a objetos para definição de arquiteturas.\n",
    "\n",
    "Vamos hoje conhecer um pouco mais o PyTorch e usá-lo para reescrever o que já conhecemos de aulas anteriores. Ao final da aula, vamos tentar expandir os nossos conhecimentos com um vislumbre de redes neurais."
   ]
  },
  {
   "cell_type": "markdown",
   "id": "022e5ebc",
   "metadata": {},
   "source": [
    "# Tensores \n",
    "\n",
    "Os tensores são uma estrutura de dados muito semelhantes a arrays e matrizes. No contexto de aprendizado de máquina, tensores são uma generalização de arrays e matrizes para um número arbitrário de dimensões. \n",
    "\n",
    "Em PyTorch, usamos tensores para codificar as entradas e saídas de um modelo, assim como os parâmetros do modelo. Em outras palavras, os tensores vão unificar a organização de todos os dados que usaremos de agora em diante.\n",
    "\n",
    "Os tensores podem executar em GPUs ou outros aceleradores de hardware.  Tensores também são otimizados para diferenciação automática. Vamos começar importando a biblioteca."
   ]
  },
  {
   "cell_type": "code",
   "execution_count": 1,
   "id": "c4f383e7",
   "metadata": {},
   "outputs": [],
   "source": [
    "import torch"
   ]
  },
  {
   "cell_type": "markdown",
   "id": "e23001c4",
   "metadata": {},
   "source": [
    "**Inicialização de Tensores**\n",
    "\n",
    "Os tensores podem ser inicializados de várias maneiras. Eles podem armazenar números em ponto flutuante de maneira organizada para as redes neurais lidarem com a informação.\n",
    "\n",
    "Em essência, uma lista convencional de python organiza os dados na memória de uma forma em que cada elemento possui o seu próprio endereço. Os tensores do PyTorch organizam os dados de maneira contígua, o que garante um aumento de eficiência.\n",
    "\n",
    "Dê uma olhada nos seguintes exemplos:"
   ]
  },
  {
   "cell_type": "code",
   "execution_count": 2,
   "id": "a05303ba",
   "metadata": {},
   "outputs": [
    {
     "data": {
      "text/plain": [
       "tensor(10)"
      ]
     },
     "execution_count": 2,
     "metadata": {},
     "output_type": "execute_result"
    }
   ],
   "source": [
    "# Criando um simples escalar\n",
    "scalar = torch.tensor(10)\n",
    "scalar"
   ]
  },
  {
   "cell_type": "code",
   "execution_count": 3,
   "id": "b850d4b8",
   "metadata": {},
   "outputs": [
    {
     "data": {
      "text/plain": [
       "0"
      ]
     },
     "execution_count": 3,
     "metadata": {},
     "output_type": "execute_result"
    }
   ],
   "source": [
    "# Vendo o numero de dimensões, como\n",
    "# temos um escalar, o número de\n",
    "# dimensões é zero\n",
    "scalar.ndim"
   ]
  },
  {
   "cell_type": "code",
   "execution_count": 4,
   "id": "ee68d8ac",
   "metadata": {},
   "outputs": [
    {
     "data": {
      "text/plain": [
       "tensor([0.4839, 0.1763, 0.3248])"
      ]
     },
     "execution_count": 4,
     "metadata": {},
     "output_type": "execute_result"
    }
   ],
   "source": [
    "# Inicializando uma lista de tamanho 3 aleatoriamente entre 0 e 1\n",
    "vector = torch.rand(3)\n",
    "vector"
   ]
  },
  {
   "cell_type": "code",
   "execution_count": 5,
   "id": "8fee921b",
   "metadata": {},
   "outputs": [
    {
     "data": {
      "text/plain": [
       "1"
      ]
     },
     "execution_count": 5,
     "metadata": {},
     "output_type": "execute_result"
    }
   ],
   "source": [
    "# Um vetor é unidimensional\n",
    "vector.ndim"
   ]
  },
  {
   "cell_type": "code",
   "execution_count": 6,
   "id": "73608899",
   "metadata": {},
   "outputs": [
    {
     "data": {
      "text/plain": [
       "tensor([1.2593])"
      ]
     },
     "execution_count": 6,
     "metadata": {},
     "output_type": "execute_result"
    }
   ],
   "source": [
    "# Inicializando aleatoriamente em uma distribuição normal\n",
    "vector = torch.normal(mean = 0, std = torch.tensor([1.0]))\n",
    "vector"
   ]
  },
  {
   "cell_type": "code",
   "execution_count": 7,
   "id": "a40efd3a",
   "metadata": {},
   "outputs": [
    {
     "data": {
      "text/plain": [
       "tensor([[1, 2],\n",
       "        [3, 4]])"
      ]
     },
     "execution_count": 7,
     "metadata": {},
     "output_type": "execute_result"
    }
   ],
   "source": [
    "# Inicializando dados com mais dimensões:\n",
    "data = [[1, 2],[3, 4]]\n",
    "x_data = torch.tensor(data)\n",
    "x_data"
   ]
  },
  {
   "cell_type": "code",
   "execution_count": 8,
   "id": "445ae7cf",
   "metadata": {},
   "outputs": [
    {
     "data": {
      "text/plain": [
       "2"
      ]
     },
     "execution_count": 8,
     "metadata": {},
     "output_type": "execute_result"
    }
   ],
   "source": [
    "# Número de dimensões dessa matriz\n",
    "x_data.ndim"
   ]
  },
  {
   "cell_type": "code",
   "execution_count": 9,
   "id": "bb6cf109",
   "metadata": {},
   "outputs": [
    {
     "data": {
      "text/plain": [
       "4"
      ]
     },
     "execution_count": 9,
     "metadata": {},
     "output_type": "execute_result"
    }
   ],
   "source": [
    "# Podemos ver o número de elementos dentro de tensor\n",
    "x_data.numel()"
   ]
  },
  {
   "cell_type": "markdown",
   "id": "93d46019",
   "metadata": {},
   "source": [
    "**Operações Aritméticas com Tensores**\n",
    "\n",
    "De posse de um tensor, podemos executar várias operações matemáticas com os elementos dentro dele. Observe que as operações a seguir não precisam de um laço de repetição, como seria o caso se tivéssemos armazenado os dados com a lista padrão do python."
   ]
  },
  {
   "cell_type": "code",
   "execution_count": 10,
   "id": "f112b03e",
   "metadata": {},
   "outputs": [
    {
     "data": {
      "text/plain": [
       "tensor([[3, 4],\n",
       "        [5, 6]])"
      ]
     },
     "execution_count": 10,
     "metadata": {},
     "output_type": "execute_result"
    }
   ],
   "source": [
    "x_data + 2"
   ]
  },
  {
   "cell_type": "code",
   "execution_count": 11,
   "id": "0d5cf095",
   "metadata": {},
   "outputs": [
    {
     "data": {
      "text/plain": [
       "tensor([[-1,  0],\n",
       "        [ 1,  2]])"
      ]
     },
     "execution_count": 11,
     "metadata": {},
     "output_type": "execute_result"
    }
   ],
   "source": [
    "x_data - 2"
   ]
  },
  {
   "cell_type": "code",
   "execution_count": 12,
   "id": "7f852fac",
   "metadata": {},
   "outputs": [
    {
     "data": {
      "text/plain": [
       "tensor([[2, 4],\n",
       "        [6, 8]])"
      ]
     },
     "execution_count": 12,
     "metadata": {},
     "output_type": "execute_result"
    }
   ],
   "source": [
    "x_data * 2"
   ]
  },
  {
   "cell_type": "code",
   "execution_count": 13,
   "id": "e6b1fb01",
   "metadata": {},
   "outputs": [
    {
     "data": {
      "text/plain": [
       "tensor([[0.5000, 1.0000],\n",
       "        [1.5000, 2.0000]])"
      ]
     },
     "execution_count": 13,
     "metadata": {},
     "output_type": "execute_result"
    }
   ],
   "source": [
    "x_data / 2"
   ]
  },
  {
   "cell_type": "code",
   "execution_count": 14,
   "id": "19ff3095",
   "metadata": {},
   "outputs": [
    {
     "data": {
      "text/plain": [
       "tensor([[0, 1],\n",
       "        [1, 2]])"
      ]
     },
     "execution_count": 14,
     "metadata": {},
     "output_type": "execute_result"
    }
   ],
   "source": [
    "x_data // 2 ## Divisão Inteira"
   ]
  },
  {
   "cell_type": "code",
   "execution_count": 15,
   "id": "aa8c8499",
   "metadata": {},
   "outputs": [
    {
     "data": {
      "text/plain": [
       "tensor([[1, 0],\n",
       "        [1, 0]])"
      ]
     },
     "execution_count": 15,
     "metadata": {},
     "output_type": "execute_result"
    }
   ],
   "source": [
    "x_data % 2 ## Resto da divisão"
   ]
  },
  {
   "cell_type": "code",
   "execution_count": 16,
   "id": "8d03b03e",
   "metadata": {},
   "outputs": [
    {
     "data": {
      "text/plain": [
       "tensor([[ 1,  4],\n",
       "        [ 9, 16]])"
      ]
     },
     "execution_count": 16,
     "metadata": {},
     "output_type": "execute_result"
    }
   ],
   "source": [
    "x_data ** 2 ## Potência"
   ]
  },
  {
   "cell_type": "code",
   "execution_count": 17,
   "id": "159db033",
   "metadata": {},
   "outputs": [
    {
     "data": {
      "text/plain": [
       "tensor([[ 2,  4],\n",
       "        [ 8, 16]])"
      ]
     },
     "execution_count": 17,
     "metadata": {},
     "output_type": "execute_result"
    }
   ],
   "source": [
    "2 ** x_data ## Exponenciação"
   ]
  },
  {
   "cell_type": "code",
   "execution_count": 18,
   "id": "83fb2d69",
   "metadata": {},
   "outputs": [
    {
     "data": {
      "text/plain": [
       "tensor([[ 1,  4],\n",
       "        [ 9, 16]])"
      ]
     },
     "execution_count": 18,
     "metadata": {},
     "output_type": "execute_result"
    }
   ],
   "source": [
    "x_data * x_data"
   ]
  },
  {
   "cell_type": "code",
   "execution_count": 19,
   "id": "d7bafb88",
   "metadata": {},
   "outputs": [
    {
     "data": {
      "text/plain": [
       "tensor([[1., 1.],\n",
       "        [1., 1.]])"
      ]
     },
     "execution_count": 19,
     "metadata": {},
     "output_type": "execute_result"
    }
   ],
   "source": [
    "x_data / x_data"
   ]
  },
  {
   "cell_type": "markdown",
   "id": "18d2aa3c",
   "metadata": {},
   "source": [
    "**Exercício**\n",
    "\n",
    "Vamos dar uma pausa para resolver o seguinte exercício. Vamos supor que temos um vetor chamado de y com valores 0 ou 1. Além disso, temos um vetor chamado de y_pred com valores reais no intervalo entre 0 e 1. Da seguinte forma:"
   ]
  },
  {
   "cell_type": "code",
   "execution_count": 20,
   "id": "b5f3d117",
   "metadata": {},
   "outputs": [
    {
     "data": {
      "text/plain": [
       "(torch.Size([272]), torch.Size([272]))"
      ]
     },
     "execution_count": 20,
     "metadata": {},
     "output_type": "execute_result"
    }
   ],
   "source": [
    "y = torch.tensor([1., 0., 0., 0., 1., 0., 1., 1., 0., 1., 0., 1., 1., 0., 1., 0., 0., 1.,\n",
    "        0., 1., 0., 0., 0., 0., 1., 1., 0., 1., 1., 1., 1., 1., 0., 1., 1., 0.,\n",
    "        0., 1., 0., 1., 1., 0., 1., 0., 1., 0., 1., 0., 1., 0., 1., 1., 0., 1.,\n",
    "        0., 1., 1., 0., 1., 1., 0., 1., 0., 1., 0., 1., 1., 1., 0., 1., 1., 0.,\n",
    "        1., 1., 0., 1., 0., 1., 1., 1., 1., 1., 1., 0., 1., 1., 1., 1., 0., 1.,\n",
    "        0., 1., 0., 1., 0., 1., 1., 1., 0., 1., 0., 1., 0., 1., 1., 0., 1., 0.,\n",
    "        1., 1., 1., 0., 1., 1., 0., 1., 0., 1., 0., 1., 0., 1., 1., 0., 1., 1.,\n",
    "        0., 1., 0., 1., 0., 1., 0., 1., 0., 1., 0., 1., 0., 1., 1., 0., 1., 1.,\n",
    "        1., 0., 1., 0., 1., 0., 1., 1., 0., 1., 1., 1., 1., 1., 0., 1., 0., 1.,\n",
    "        0., 1., 0., 1., 0., 1., 0., 1., 0., 0., 1., 0., 1., 1., 1., 0., 1., 1.,\n",
    "        0., 1., 1., 1., 0., 1., 1., 0., 1., 0., 1., 0., 1., 1., 1., 1., 0., 1.,\n",
    "        0., 1., 0., 1., 1., 0., 1., 0., 1., 1., 0., 1., 0., 1., 0., 1., 0., 1.,\n",
    "        0., 1., 0., 1., 0., 1., 0., 1., 1., 1., 1., 1., 1., 1., 1., 0., 1., 0.,\n",
    "        1., 0., 0., 1., 1., 0., 1., 0., 1., 0., 1., 1., 0., 1., 0., 1., 0., 1.,\n",
    "        1., 1., 1., 1., 1., 1., 0., 1., 1., 1., 0., 1., 0., 0., 1., 1., 0., 1.,\n",
    "        0., 1.])\n",
    "\n",
    "y_pred = torch.tensor([0.99,0.01,0.98,0.12,0.99,0.01,0.99,0.99,0.01,0.99,0.01,\n",
    "        0.99,0.99,0.01,0.99,0.01,0.12,0.99,0.01,0.99,0.01,0.01,0.99,0.82,0.98,\n",
    "        0.99,0.01,0.99,0.99,0.99,0.97,0.99,0.50,0.99,0.98,0.01,0.01,0.99,0.03,\n",
    "        0.99,0.99,0.02,0.99,0.02,0.97,0.99,0.27,0.01,0.99,0.03,0.99,0.99,0.01,\n",
    "        0.99,0.01,0.99,0.92,0.27,0.99,0.99,0.03,0.99,0.01,0.99,0.05,0.99,0.99,\n",
    "        0.99,0.38,0.97,0.99,0.01,0.99,0.92,0.12,0.99,0.05,0.99,0.99,0.99,0.99,\n",
    "        0.99,0.88,0.38,0.97,0.99,0.99,0.99,0.01,0.99,0.05,0.99,0.01,0.99,0.18,\n",
    "        0.95,0.99,0.99,0.01,0.99,0.12,0.99,0.01,0.99,0.99,0.01,0.99,0.01,0.99,\n",
    "        0.99,0.99,0.03,0.99,0.99,0.03,0.99,0.01,0.99,0.03,0.99,0.01,0.82,0.99,\n",
    "        0.01,0.99,0.99,0.01,0.99,0.01,0.99,0.01,0.99,0.01,0.99,0.01,0.99,0.01,\n",
    "        0.99,0.01,0.99,0.99,0.05,0.99,0.99,0.99,0.03,0.99,0.01,0.99,0.01,0.99,\n",
    "        0.99,0.38,0.99,0.92,0.88,0.99,0.99,0.01,0.99,0.01,0.99,0.02,0.99,0.50,\n",
    "        0.99,0.18,0.99,0.01,0.99,0.01,0.01,0.99,0.73,0.99,0.99,0.97,0.01,0.99,\n",
    "        0.98,0.01,0.99,0.99,0.99,0.01,0.99,0.99,0.01,0.99,0.01,0.99,0.01,0.99,\n",
    "        0.99,0.99,0.99,0.99,0.99,0.01,0.99,0.05,0.99,0.99,0.01,0.99,0.01,0.99,\n",
    "        0.99,0.01,0.99,0.92,0.99,0.01,0.99,0.27,0.99,0.01,0.99,0.01,0.99,0.01,\n",
    "        0.99,0.01,0.99,0.99,0.99,0.99,0.99,0.88,0.99,0.88,0.01,0.99,0.01,0.99,\n",
    "        0.01,0.01,0.99,0.99,0.27,0.99,0.01,0.99,0.18,0.99,0.99,0.01,0.99,0.62,\n",
    "        0.98,0.01,0.99,0.97,0.97,0.99,0.99,0.92,0.99,0.01,0.99,0.99,0.99,0.02,\n",
    "        0.99,0.01,0.05,0.99,0.99,0.01,0.99,0.01,0.98])\n",
    "\n",
    "        \n",
    "y.shape, y_pred.shape"
   ]
  },
  {
   "cell_type": "markdown",
   "id": "0d3324b3",
   "metadata": {},
   "source": [
    "Agora crie uma função que implementa *erro quadrático médio* aprendido em aulas anteriores com essas estruturas."
   ]
  },
  {
   "cell_type": "code",
   "execution_count": 21,
   "id": "398dce2b",
   "metadata": {},
   "outputs": [
    {
     "data": {
      "text/plain": [
       "tensor(0.0307)"
      ]
     },
     "execution_count": 21,
     "metadata": {},
     "output_type": "execute_result"
    }
   ],
   "source": [
    "#ToDo: Implemente a função abaixo\n",
    "def erro_quadratico_medio(y_pred, y) :\n",
    "    return 1\n",
    "\n",
    "def erro_quadratico_medio(y_pred, y) :\n",
    "    return ((y_pred - y)**2).sum()/272\n",
    "\n",
    "erro_quadratico_medio(y_pred, y)"
   ]
  },
  {
   "cell_type": "markdown",
   "id": "9b1550e3",
   "metadata": {},
   "source": [
    "Vale mencionar que esta função já está implementada na biblioteca PyTorch. Nesse caso, o seu valor deverá ser igual ao visto a seguir:"
   ]
  },
  {
   "cell_type": "code",
   "execution_count": 22,
   "id": "6017b081",
   "metadata": {},
   "outputs": [
    {
     "data": {
      "text/plain": [
       "0.03068603202700615"
      ]
     },
     "execution_count": 22,
     "metadata": {},
     "output_type": "execute_result"
    }
   ],
   "source": [
    "loss_fn = torch.nn.MSELoss()\n",
    "loss_fn(y_pred, y).item()"
   ]
  },
  {
   "cell_type": "code",
   "execution_count": 23,
   "id": "8ca8d2e8",
   "metadata": {},
   "outputs": [
    {
     "data": {
      "text/plain": [
       "tensor(0.1270)"
      ]
     },
     "execution_count": 23,
     "metadata": {},
     "output_type": "execute_result"
    }
   ],
   "source": [
    "-(1/len(y)) * sum(y*y_pred.log() + (1 - y)*((1-y_pred).log()))"
   ]
  },
  {
   "cell_type": "markdown",
   "id": "078ab8af",
   "metadata": {},
   "source": [
    "Uma outra função interessante de se programar é a função de custo conhecida como *entropia cruzada binária*, cuja fórmula é:\n",
    "$$ -\\frac{1}{n} \\sum_{i=1}^n  [ y_i \\log(\\hat y_i) + (1-y_i)  \\log(1-\\hat y_i) ]$$ \n"
   ]
  },
  {
   "cell_type": "code",
   "execution_count": 24,
   "id": "4c0ba0cb",
   "metadata": {},
   "outputs": [
    {
     "data": {
      "text/plain": [
       "tensor(0.1270)"
      ]
     },
     "execution_count": 24,
     "metadata": {},
     "output_type": "execute_result"
    }
   ],
   "source": [
    "# ToDo: Implemente esta função abaixo.\n",
    "def entropia_cruzada_binaria(y_pred, y) :\n",
    "    return 1\n",
    "\n",
    "def entropia_cruzada_binaria(y_pred, y) :\n",
    "    return -(1/len(y))* torch.sum(y*torch.log(y_pred) + (1 - y)* torch.log(1-y_pred))\n",
    "\n",
    "entropia_cruzada_binaria(y_pred, y)"
   ]
  },
  {
   "cell_type": "markdown",
   "id": "c8958104",
   "metadata": {},
   "source": [
    "Vale também mencionar que esta função já está implementada na biblioteca PyTorch. Nesse caso, o seu valor deverá ser igual ao visto a seguir:"
   ]
  },
  {
   "cell_type": "code",
   "execution_count": 25,
   "id": "0495a73d",
   "metadata": {},
   "outputs": [
    {
     "data": {
      "text/plain": [
       "0.12697304785251617"
      ]
     },
     "execution_count": 25,
     "metadata": {},
     "output_type": "execute_result"
    }
   ],
   "source": [
    "loss_fn = torch.nn.BCELoss()\n",
    "loss_fn(y_pred, y).item()"
   ]
  },
  {
   "cell_type": "markdown",
   "id": "218863a4",
   "metadata": {},
   "source": [
    "**Operações de Comparação com Tensores**\n",
    "\n",
    "A seguir, um conjunto de operações de comparação que permitem gerar tensores binários."
   ]
  },
  {
   "cell_type": "code",
   "execution_count": 26,
   "id": "b9300ed6",
   "metadata": {},
   "outputs": [
    {
     "data": {
      "text/plain": [
       "tensor([[False, False],\n",
       "        [ True,  True]])"
      ]
     },
     "execution_count": 26,
     "metadata": {},
     "output_type": "execute_result"
    }
   ],
   "source": [
    "x_data > 2"
   ]
  },
  {
   "cell_type": "code",
   "execution_count": 27,
   "id": "2b5b1b7b",
   "metadata": {},
   "outputs": [
    {
     "data": {
      "text/plain": [
       "tensor([[ True,  True],\n",
       "        [False,  True]])"
      ]
     },
     "execution_count": 27,
     "metadata": {},
     "output_type": "execute_result"
    }
   ],
   "source": [
    "x_data != 3"
   ]
  },
  {
   "cell_type": "code",
   "execution_count": 28,
   "id": "e12ecbf0",
   "metadata": {},
   "outputs": [
    {
     "data": {
      "text/plain": [
       "tensor([[False,  True],\n",
       "        [ True,  True]])"
      ]
     },
     "execution_count": 28,
     "metadata": {},
     "output_type": "execute_result"
    }
   ],
   "source": [
    "1 < x_data"
   ]
  },
  {
   "cell_type": "code",
   "execution_count": 29,
   "id": "e00c6a8e",
   "metadata": {},
   "outputs": [
    {
     "data": {
      "text/plain": [
       "tensor([[False, False],\n",
       "        [ True, False]])"
      ]
     },
     "execution_count": 29,
     "metadata": {},
     "output_type": "execute_result"
    }
   ],
   "source": [
    "x_data == 3"
   ]
  },
  {
   "cell_type": "code",
   "execution_count": 30,
   "id": "b2d444c6",
   "metadata": {},
   "outputs": [
    {
     "data": {
      "text/plain": [
       "tensor([[False, False],\n",
       "        [False,  True]])"
      ]
     },
     "execution_count": 30,
     "metadata": {},
     "output_type": "execute_result"
    }
   ],
   "source": [
    "x_data ** 2 > 10"
   ]
  },
  {
   "cell_type": "code",
   "execution_count": 31,
   "id": "3f0ce768",
   "metadata": {},
   "outputs": [
    {
     "data": {
      "text/plain": [
       "tensor([[2, 2],\n",
       "        [2, 1]])"
      ]
     },
     "execution_count": 31,
     "metadata": {},
     "output_type": "execute_result"
    }
   ],
   "source": [
    "2 ** (x_data < 4)"
   ]
  },
  {
   "cell_type": "markdown",
   "id": "5948ecdb",
   "metadata": {},
   "source": [
    "**Operações booleanas com Tensores**"
   ]
  },
  {
   "cell_type": "code",
   "execution_count": 32,
   "id": "ac354425",
   "metadata": {},
   "outputs": [],
   "source": [
    "a = torch.Tensor([True, False, True, False])\n",
    "b = torch.Tensor([True, True, False, False])"
   ]
  },
  {
   "cell_type": "code",
   "execution_count": 33,
   "id": "ae3ef802",
   "metadata": {},
   "outputs": [
    {
     "data": {
      "text/plain": [
       "tensor([ True, False, False, False])"
      ]
     },
     "execution_count": 33,
     "metadata": {},
     "output_type": "execute_result"
    }
   ],
   "source": [
    "torch.logical_and(a, b)"
   ]
  },
  {
   "cell_type": "code",
   "execution_count": 34,
   "id": "82ea89df",
   "metadata": {},
   "outputs": [
    {
     "data": {
      "text/plain": [
       "tensor([ True,  True,  True, False])"
      ]
     },
     "execution_count": 34,
     "metadata": {},
     "output_type": "execute_result"
    }
   ],
   "source": [
    "torch.logical_or(a, b)"
   ]
  },
  {
   "cell_type": "code",
   "execution_count": 35,
   "id": "f979523b",
   "metadata": {},
   "outputs": [
    {
     "data": {
      "text/plain": [
       "tensor([False,  True, False,  True])"
      ]
     },
     "execution_count": 35,
     "metadata": {},
     "output_type": "execute_result"
    }
   ],
   "source": [
    "torch.logical_not(a)"
   ]
  },
  {
   "cell_type": "markdown",
   "id": "ddbab2dd",
   "metadata": {},
   "source": [
    "**Exercício**\n",
    "\n",
    "Vamos dar uma segunda pausa para que você possa usar os vetores $y$ e $\\hat y$ novamente. Escreva uma função que retorne um vetor de booleanos em que cada posição $i$ desse vetor deve ser preenchida da seguinte forma:\n",
    "\n",
    "* **True**: se $y_i$ e $\\hat y_i$ forem ambos maiores que 0.5\n",
    "* **True**: se $y_i$ e $\\hat y_i$ forem ambos menores ou iguais a 0.5\n",
    "* **False**: qualquer outra situação."
   ]
  },
  {
   "cell_type": "code",
   "execution_count": 36,
   "id": "329c8e6e",
   "metadata": {},
   "outputs": [
    {
     "data": {
      "text/plain": [
       "tensor([ True,  True, False,  True,  True,  True,  True,  True,  True,  True,\n",
       "         True,  True,  True,  True,  True,  True,  True,  True,  True,  True,\n",
       "         True,  True, False, False,  True,  True,  True,  True,  True,  True,\n",
       "         True,  True,  True,  True,  True,  True,  True,  True,  True,  True,\n",
       "         True,  True,  True,  True,  True, False, False,  True,  True,  True,\n",
       "         True,  True,  True,  True,  True,  True,  True,  True,  True,  True,\n",
       "         True,  True,  True,  True,  True,  True,  True,  True,  True,  True,\n",
       "         True,  True,  True,  True,  True,  True,  True,  True,  True,  True,\n",
       "         True,  True,  True,  True,  True,  True,  True,  True,  True,  True,\n",
       "         True,  True,  True,  True,  True,  True,  True,  True,  True,  True,\n",
       "         True,  True,  True,  True,  True,  True,  True,  True,  True,  True,\n",
       "         True,  True,  True,  True,  True,  True,  True,  True,  True,  True,\n",
       "         True,  True,  True,  True,  True,  True,  True,  True,  True,  True,\n",
       "         True,  True,  True,  True,  True,  True,  True,  True,  True,  True,\n",
       "         True,  True,  True,  True,  True,  True,  True,  True,  True,  True,\n",
       "         True,  True,  True,  True,  True,  True,  True,  True,  True,  True,\n",
       "         True,  True,  True,  True,  True,  True,  True,  True,  True,  True,\n",
       "         True,  True,  True, False,  True,  True,  True,  True,  True,  True,\n",
       "         True,  True,  True,  True,  True,  True,  True,  True,  True,  True,\n",
       "         True,  True,  True,  True,  True,  True, False,  True,  True,  True,\n",
       "         True,  True,  True,  True,  True,  True,  True,  True,  True,  True,\n",
       "        False,  True,  True,  True,  True,  True,  True,  True,  True,  True,\n",
       "         True,  True,  True,  True,  True,  True,  True,  True,  True,  True,\n",
       "         True,  True,  True,  True,  True,  True,  True,  True,  True,  True,\n",
       "         True,  True,  True,  True,  True,  True,  True,  True, False,  True,\n",
       "         True,  True,  True,  True,  True,  True,  True,  True,  True,  True,\n",
       "         True,  True,  True,  True,  True,  True,  True,  True,  True,  True,\n",
       "         True,  True])"
      ]
     },
     "execution_count": 36,
     "metadata": {},
     "output_type": "execute_result"
    }
   ],
   "source": [
    "# ToDo: Implemente a função a seguir\n",
    "def right_predictions(y_pred, y) :\n",
    "    return 1\n",
    "\n",
    "def right_predictions(y_pred, y) :\n",
    "    y_one      = y > 0.5\n",
    "    y_pred_one = y_pred > 0.5\n",
    "\n",
    "    both_one  = torch.logical_and(y_one, y_pred_one)\n",
    "    both_zero = torch.logical_and(torch.logical_not(y_one), torch.logical_not(y_pred_one)) \n",
    "    return torch.logical_or(both_one, both_zero)\n",
    "\n",
    "right_predictions(y_pred, y)"
   ]
  },
  {
   "cell_type": "markdown",
   "id": "a83744d8",
   "metadata": {},
   "source": [
    "Compare sua resposta com o resultado a seguir:"
   ]
  },
  {
   "cell_type": "code",
   "execution_count": 37,
   "id": "f351f1cb",
   "metadata": {},
   "outputs": [
    {
     "data": {
      "text/plain": [
       "tensor([ True,  True, False,  True,  True,  True,  True,  True,  True,  True,\n",
       "         True,  True,  True,  True,  True,  True,  True,  True,  True,  True,\n",
       "         True,  True, False, False,  True,  True,  True,  True,  True,  True,\n",
       "         True,  True,  True,  True,  True,  True,  True,  True,  True,  True,\n",
       "         True,  True,  True,  True,  True, False, False,  True,  True,  True,\n",
       "         True,  True,  True,  True,  True,  True,  True,  True,  True,  True,\n",
       "         True,  True,  True,  True,  True,  True,  True,  True,  True,  True,\n",
       "         True,  True,  True,  True,  True,  True,  True,  True,  True,  True,\n",
       "         True,  True,  True,  True,  True,  True,  True,  True,  True,  True,\n",
       "         True,  True,  True,  True,  True,  True,  True,  True,  True,  True,\n",
       "         True,  True,  True,  True,  True,  True,  True,  True,  True,  True,\n",
       "         True,  True,  True,  True,  True,  True,  True,  True,  True,  True,\n",
       "         True,  True,  True,  True,  True,  True,  True,  True,  True,  True,\n",
       "         True,  True,  True,  True,  True,  True,  True,  True,  True,  True,\n",
       "         True,  True,  True,  True,  True,  True,  True,  True,  True,  True,\n",
       "         True,  True,  True,  True,  True,  True,  True,  True,  True,  True,\n",
       "         True,  True,  True,  True,  True,  True,  True,  True,  True,  True,\n",
       "         True,  True,  True, False,  True,  True,  True,  True,  True,  True,\n",
       "         True,  True,  True,  True,  True,  True,  True,  True,  True,  True,\n",
       "         True,  True,  True,  True,  True,  True, False,  True,  True,  True,\n",
       "         True,  True,  True,  True,  True,  True,  True,  True,  True,  True,\n",
       "        False,  True,  True,  True,  True,  True,  True,  True,  True,  True,\n",
       "         True,  True,  True,  True,  True,  True,  True,  True,  True,  True,\n",
       "         True,  True,  True,  True,  True,  True,  True,  True,  True,  True,\n",
       "         True,  True,  True,  True,  True,  True,  True,  True, False,  True,\n",
       "         True,  True,  True,  True,  True,  True,  True,  True,  True,  True,\n",
       "         True,  True,  True,  True,  True,  True,  True,  True,  True,  True,\n",
       "         True,  True])"
      ]
     },
     "execution_count": 37,
     "metadata": {},
     "output_type": "execute_result"
    }
   ],
   "source": [
    "answer = torch.tensor([ True,  True, False,  True,  True,  True,  True,  True,  True,  True,\n",
    "         True,  True,  True,  True,  True,  True,  True,  True,  True,  True,\n",
    "         True,  True, False, False,  True,  True,  True,  True,  True,  True,\n",
    "         True,  True,  True,  True,  True,  True,  True,  True,  True,  True,\n",
    "         True,  True,  True,  True,  True, False, False,  True,  True,  True,\n",
    "         True,  True,  True,  True,  True,  True,  True,  True,  True,  True,\n",
    "         True,  True,  True,  True,  True,  True,  True,  True,  True,  True,\n",
    "         True,  True,  True,  True,  True,  True,  True,  True,  True,  True,\n",
    "         True,  True,  True,  True,  True,  True,  True,  True,  True,  True,\n",
    "         True,  True,  True,  True,  True,  True,  True,  True,  True,  True,\n",
    "         True,  True,  True,  True,  True,  True,  True,  True,  True,  True,\n",
    "         True,  True,  True,  True,  True,  True,  True,  True,  True,  True,\n",
    "         True,  True,  True,  True,  True,  True,  True,  True,  True,  True,\n",
    "         True,  True,  True,  True,  True,  True,  True,  True,  True,  True,\n",
    "         True,  True,  True,  True,  True,  True,  True,  True,  True,  True,\n",
    "         True,  True,  True,  True,  True,  True,  True,  True,  True,  True,\n",
    "         True,  True,  True,  True,  True,  True,  True,  True,  True,  True,\n",
    "         True,  True,  True, False,  True,  True,  True,  True,  True,  True,\n",
    "         True,  True,  True,  True,  True,  True,  True,  True,  True,  True,\n",
    "         True,  True,  True,  True,  True,  True, False,  True,  True,  True,\n",
    "         True,  True,  True,  True,  True,  True,  True,  True,  True,  True,\n",
    "        False,  True,  True,  True,  True,  True,  True,  True,  True,  True,\n",
    "         True,  True,  True,  True,  True,  True,  True,  True,  True,  True,\n",
    "         True,  True,  True,  True,  True,  True,  True,  True,  True,  True,\n",
    "         True,  True,  True,  True,  True,  True,  True,  True, False,  True,\n",
    "         True,  True,  True,  True,  True,  True,  True,  True,  True,  True,\n",
    "         True,  True,  True,  True,  True,  True,  True,  True,  True,  True,\n",
    "         True,  True])\n",
    "answer"
   ]
  },
  {
   "cell_type": "markdown",
   "id": "c933cc47",
   "metadata": {},
   "source": [
    "**Outras Inicializações de Tensores**"
   ]
  },
  {
   "cell_type": "code",
   "execution_count": 38,
   "id": "4f52c790",
   "metadata": {},
   "outputs": [
    {
     "data": {
      "text/plain": [
       "tensor([[1., 0., 0.],\n",
       "        [0., 1., 0.],\n",
       "        [0., 0., 1.]])"
      ]
     },
     "execution_count": 38,
     "metadata": {},
     "output_type": "execute_result"
    }
   ],
   "source": [
    "# Inicializando uma matriz identidade 3 x 3\n",
    "torch.eye(3)"
   ]
  },
  {
   "cell_type": "code",
   "execution_count": 39,
   "id": "93eb7633",
   "metadata": {},
   "outputs": [
    {
     "data": {
      "text/plain": [
       "tensor([[1., 0., 0., 0., 0.],\n",
       "        [0., 1., 0., 0., 0.],\n",
       "        [0., 0., 1., 0., 0.],\n",
       "        [0., 0., 0., 1., 0.],\n",
       "        [0., 0., 0., 0., 1.]])"
      ]
     },
     "execution_count": 39,
     "metadata": {},
     "output_type": "execute_result"
    }
   ],
   "source": [
    "# Inicializando uma matriz identidade 5 x 5\n",
    "torch.eye(5)"
   ]
  },
  {
   "cell_type": "code",
   "execution_count": 40,
   "id": "f99be6f4",
   "metadata": {},
   "outputs": [
    {
     "data": {
      "text/plain": [
       "tensor([ 2.0000,  2.3333,  2.6667,  3.0000,  3.3333,  3.6667,  4.0000,  4.3333,\n",
       "         4.6667,  5.0000,  5.3333,  5.6667,  6.0000,  6.3333,  6.6667,  7.0000,\n",
       "         7.3333,  7.6667,  8.0000,  8.3333,  8.6667,  9.0000,  9.3333,  9.6667,\n",
       "        10.0000])"
      ]
     },
     "execution_count": 40,
     "metadata": {},
     "output_type": "execute_result"
    }
   ],
   "source": [
    "# Criando um intervalo linear entre 2 e 10\n",
    "# com 25 elementos\n",
    "torch.linspace(2, 10, steps = 25)"
   ]
  },
  {
   "cell_type": "code",
   "execution_count": 41,
   "id": "bbf30051",
   "metadata": {},
   "outputs": [
    {
     "data": {
      "text/plain": [
       "tensor([1.0000e+02, 2.1544e+02, 4.6416e+02, 1.0000e+03, 2.1544e+03, 4.6416e+03,\n",
       "        1.0000e+04, 2.1544e+04, 4.6416e+04, 1.0000e+05, 2.1544e+05, 4.6416e+05,\n",
       "        1.0000e+06, 2.1544e+06, 4.6416e+06, 1.0000e+07, 2.1544e+07, 4.6416e+07,\n",
       "        1.0000e+08, 2.1544e+08, 4.6416e+08, 1.0000e+09, 2.1544e+09, 4.6416e+09,\n",
       "        1.0000e+10])"
      ]
     },
     "execution_count": 41,
     "metadata": {},
     "output_type": "execute_result"
    }
   ],
   "source": [
    "# Criando um intervalo logarítmico entre 10^2 e 10^10\n",
    "# com 25 elementos\n",
    "torch.logspace(2, 10, steps = 25)"
   ]
  },
  {
   "cell_type": "code",
   "execution_count": 42,
   "id": "dc1d9311",
   "metadata": {},
   "outputs": [
    {
     "name": "stdout",
     "output_type": "stream",
     "text": [
      "Random Tensor: \n",
      " tensor([[0.9195, 0.5177, 0.4891],\n",
      "        [0.6599, 0.7927, 0.7347]]) \n",
      "\n",
      "Ones Tensor: \n",
      " tensor([[1., 1., 1.],\n",
      "        [1., 1., 1.]]) \n",
      "\n",
      "Zeros Tensor: \n",
      " tensor([[0., 0., 0.],\n",
      "        [0., 0., 0.]])\n"
     ]
    }
   ],
   "source": [
    "# Com valores aleatórios ou constantes:\n",
    "\n",
    "# Shape é um tuple de dimensões tensoriais. Nas \n",
    "# funções abaixo, determinamos  a dimensionalidade \n",
    "# do tensor que criamos.\n",
    "\n",
    "shape = (2,3,)\n",
    "rand_tensor = torch.rand(shape)\n",
    "ones_tensor = torch.ones(shape)\n",
    "zeros_tensor = torch.zeros(shape)\n",
    "\n",
    "print(f\"Random Tensor: \\n {rand_tensor} \\n\")\n",
    "print(f\"Ones Tensor: \\n {ones_tensor} \\n\")\n",
    "print(f\"Zeros Tensor: \\n {zeros_tensor}\")"
   ]
  },
  {
   "cell_type": "code",
   "execution_count": 43,
   "id": "2b85f371",
   "metadata": {},
   "outputs": [
    {
     "name": "stdout",
     "output_type": "stream",
     "text": [
      "Ones Tensor: \n",
      " tensor([[1, 1],\n",
      "        [1, 1]]) \n",
      "\n",
      "Random Tensor: \n",
      " tensor([[0.9502, 0.0707],\n",
      "        [0.4945, 0.4956]]) \n",
      "\n"
     ]
    }
   ],
   "source": [
    "# Inicializando de outro Tensor:\n",
    "##  O novo tensor retém as propriedades (forma, tipo de dados) \n",
    "##  do tensor do argumento, a menos que seja explicitamente anulado.\n",
    "\n",
    "x_ones = torch.ones_like(x_data) # mantém a propriedade de x_data\n",
    "print(f\"Ones Tensor: \\n {x_ones} \\n\")\n",
    "\n",
    "x_rand = torch.rand_like(x_data, dtype=torch.float) # muda as propriedades x_data\n",
    "print(f\"Random Tensor: \\n {x_rand} \\n\")"
   ]
  },
  {
   "cell_type": "markdown",
   "id": "aa9aef38",
   "metadata": {},
   "source": [
    "**Mínimos e Máximos**"
   ]
  },
  {
   "cell_type": "code",
   "execution_count": 44,
   "id": "3c2d76db",
   "metadata": {},
   "outputs": [
    {
     "data": {
      "text/plain": [
       "tensor([[-0.7410,  0.4756, -0.5688,  0.2066, -1.3234],\n",
       "        [ 0.2907,  0.4882, -1.3896, -0.2206,  1.6478],\n",
       "        [-0.1673, -0.3637, -1.4141, -1.6007,  2.1516],\n",
       "        [-0.9489, -0.7565, -0.0127,  0.9623,  0.2407]])"
      ]
     },
     "execution_count": 44,
     "metadata": {},
     "output_type": "execute_result"
    }
   ],
   "source": [
    "# Encontrando o mínimo\n",
    "d = torch.randn(4,5)\n",
    "d"
   ]
  },
  {
   "cell_type": "code",
   "execution_count": 45,
   "id": "2a223290",
   "metadata": {},
   "outputs": [
    {
     "data": {
      "text/plain": [
       "tensor([3, 3, 2, 2, 0])"
      ]
     },
     "execution_count": 45,
     "metadata": {},
     "output_type": "execute_result"
    }
   ],
   "source": [
    "## Argmin devolve os índices dos mínimos de uma dada dimensão\n",
    "## Por exemplo, para a dimensão das linhas\n",
    "d.argmin(dim=0)"
   ]
  },
  {
   "cell_type": "code",
   "execution_count": 46,
   "id": "f9bde9fc",
   "metadata": {},
   "outputs": [
    {
     "data": {
      "text/plain": [
       "tensor([4, 2, 3, 0])"
      ]
     },
     "execution_count": 46,
     "metadata": {},
     "output_type": "execute_result"
    }
   ],
   "source": [
    "## Argmin devolve os índices dos mínimos de uma dada dimensão\n",
    "## Por exemplo, para a dimensão das colunas\n",
    "d.argmin(dim=1)"
   ]
  },
  {
   "cell_type": "markdown",
   "id": "e2963bcd",
   "metadata": {},
   "source": [
    "**Atributos de Tensores**"
   ]
  },
  {
   "cell_type": "code",
   "execution_count": 47,
   "id": "7e524f7d",
   "metadata": {},
   "outputs": [
    {
     "name": "stdout",
     "output_type": "stream",
     "text": [
      "Shape (formato) do Tensor: torch.Size([3, 4])\n",
      "Datatype (tipo de dado) do Tensor: torch.float32\n",
      "Device onde o tensor está armazenado: cpu\n"
     ]
    }
   ],
   "source": [
    "tensor = torch.rand(3,4)\n",
    "\n",
    "print(f\"Shape (formato) do Tensor: {tensor.shape}\")\n",
    "print(f\"Datatype (tipo de dado) do Tensor: {tensor.dtype}\")\n",
    "print(f\"Device onde o tensor está armazenado: {tensor.device}\")"
   ]
  },
  {
   "cell_type": "markdown",
   "id": "5420966c",
   "metadata": {},
   "source": [
    "**Operações avançadas com Tensores**\n",
    "\n",
    "Em PyTorch temos mais de 100 operações tensoriais, incluindo aritmética, álgebra linear, manipulação de matrizes (transposição,\n",
    "indexação, fatiamento), amostragem e muito mais. Para mais operações interessantes sugiro procurar [aqui](https://pytorch.org/docs/stable/torch.html).\n",
    "\n",
    "Cada uma destas operações pode ser executada na GPU (em velocidades tipicamente mais altas do que em uma \n",
    "CPU). No Colab, alocar uma GPU é feito indo em Runtime > Change runtime type > GPU.\n",
    "\n",
    "Por padrão, os tensores são criados na CPU. Precisamos mover explicitamente os tensores para a GPU usando\n",
    "método ``.to'' (depois de verificar a disponibilidade da GPU). Tenha em mente que a cópia de grandes tensores\n",
    "através de dispositivos pode ser caro em termos de tempo e memória!"
   ]
  },
  {
   "cell_type": "code",
   "execution_count": 48,
   "id": "f9bcb4c0",
   "metadata": {},
   "outputs": [],
   "source": [
    "# Movemos nosso tensor para a GPU, se disponível\n",
    "if torch.cuda.is_available():\n",
    "    tensor = tensor.to(\"cuda\")"
   ]
  },
  {
   "cell_type": "code",
   "execution_count": 49,
   "id": "649e1be5",
   "metadata": {},
   "outputs": [
    {
     "name": "stdout",
     "output_type": "stream",
     "text": [
      "Tensor: tensor([[1., 1., 1., 1.],\n",
      "        [1., 1., 1., 1.],\n",
      "        [1., 1., 1., 1.],\n",
      "        [1., 1., 1., 1.]])\n",
      "Primeira Linha: tensor([1., 1., 1., 1.])\n",
      "Primeira coluna: tensor([1., 1., 1., 1.])\n",
      "Última column: tensor([1., 1., 1., 1.])\n"
     ]
    }
   ],
   "source": [
    "## Indexação e Slices\n",
    "tensor = torch.ones(4, 4)\n",
    "print(f\"Tensor: {tensor}\")\n",
    "print(f\"Primeira Linha: {tensor[0]}\")\n",
    "print(f\"Primeira coluna: {tensor[:, 0]}\")\n",
    "print(f\"Última column: {tensor[:, -1]}\")"
   ]
  },
  {
   "cell_type": "code",
   "execution_count": 50,
   "id": "d9bca7a3",
   "metadata": {},
   "outputs": [
    {
     "name": "stdout",
     "output_type": "stream",
     "text": [
      "tensor([[1., 1., 1., 0.],\n",
      "        [1., 1., 1., 0.],\n",
      "        [1., 1., 1., 0.],\n",
      "        [1., 1., 1., 0.]])\n"
     ]
    }
   ],
   "source": [
    "## Alterando última coluna de todas as linhas\n",
    "tensor[:,-1] = 0\n",
    "print(tensor)"
   ]
  },
  {
   "cell_type": "markdown",
   "id": "13d8c49a",
   "metadata": {},
   "source": [
    "**Unindo tensores**\n",
    "\n",
    " Você pode utilizar ``torch.cat``` para concatenar uma seqüência de tensores ao longo de uma dada dimensão.\n"
   ]
  },
  {
   "cell_type": "code",
   "execution_count": 51,
   "id": "ccf6546c",
   "metadata": {},
   "outputs": [
    {
     "name": "stdout",
     "output_type": "stream",
     "text": [
      "tensor([[1., 1., 1., 0.],\n",
      "        [1., 1., 1., 0.],\n",
      "        [1., 1., 1., 0.],\n",
      "        [1., 1., 1., 0.],\n",
      "        [1., 1., 1., 0.],\n",
      "        [1., 1., 1., 0.],\n",
      "        [1., 1., 1., 0.],\n",
      "        [1., 1., 1., 0.],\n",
      "        [1., 1., 1., 0.],\n",
      "        [1., 1., 1., 0.],\n",
      "        [1., 1., 1., 0.],\n",
      "        [1., 1., 1., 0.]])\n"
     ]
    }
   ],
   "source": [
    "t1 = torch.cat([tensor, tensor, tensor], dim=0)\n",
    "print(t1)"
   ]
  },
  {
   "cell_type": "code",
   "execution_count": 52,
   "id": "3c97e1b8",
   "metadata": {},
   "outputs": [
    {
     "name": "stdout",
     "output_type": "stream",
     "text": [
      "tensor([[1., 1., 1., 0., 1., 1., 1., 0., 1., 1., 1., 0.],\n",
      "        [1., 1., 1., 0., 1., 1., 1., 0., 1., 1., 1., 0.],\n",
      "        [1., 1., 1., 0., 1., 1., 1., 0., 1., 1., 1., 0.],\n",
      "        [1., 1., 1., 0., 1., 1., 1., 0., 1., 1., 1., 0.]])\n"
     ]
    }
   ],
   "source": [
    "t1 = torch.cat([tensor, tensor, tensor], dim=1)\n",
    "print(t1)"
   ]
  },
  {
   "cell_type": "markdown",
   "id": "31957326",
   "metadata": {},
   "source": [
    "**Transposta de um Tensor**"
   ]
  },
  {
   "cell_type": "code",
   "execution_count": 53,
   "id": "f2109763",
   "metadata": {},
   "outputs": [
    {
     "data": {
      "text/plain": [
       "tensor([[1., 1., 1., 1.],\n",
       "        [1., 1., 1., 1.],\n",
       "        [1., 1., 1., 1.],\n",
       "        [0., 0., 0., 0.]])"
      ]
     },
     "execution_count": 53,
     "metadata": {},
     "output_type": "execute_result"
    }
   ],
   "source": [
    "tensor.T"
   ]
  },
  {
   "cell_type": "markdown",
   "id": "9d5a6a7a",
   "metadata": {},
   "source": [
    "**Multiplicação de Tensores**"
   ]
  },
  {
   "cell_type": "code",
   "execution_count": 54,
   "id": "962b7e33",
   "metadata": {
    "scrolled": true
   },
   "outputs": [
    {
     "data": {
      "text/plain": [
       "tensor([[3., 3., 3., 0.],\n",
       "        [3., 3., 3., 0.],\n",
       "        [3., 3., 3., 0.],\n",
       "        [3., 3., 3., 0.]])"
      ]
     },
     "execution_count": 54,
     "metadata": {},
     "output_type": "execute_result"
    }
   ],
   "source": [
    "tensor.matmul(tensor)"
   ]
  },
  {
   "cell_type": "code",
   "execution_count": 55,
   "id": "4b7efba5",
   "metadata": {},
   "outputs": [
    {
     "data": {
      "text/plain": [
       "tensor([[3., 3., 3., 0.],\n",
       "        [3., 3., 3., 0.],\n",
       "        [3., 3., 3., 0.],\n",
       "        [3., 3., 3., 0.]])"
      ]
     },
     "execution_count": 55,
     "metadata": {},
     "output_type": "execute_result"
    }
   ],
   "source": [
    "tensor @ tensor"
   ]
  },
  {
   "cell_type": "code",
   "execution_count": 56,
   "id": "d66500ac",
   "metadata": {},
   "outputs": [
    {
     "data": {
      "text/plain": [
       "tensor([[1., 1., 1., 0.],\n",
       "        [1., 1., 1., 0.],\n",
       "        [1., 1., 1., 0.],\n",
       "        [1., 1., 1., 0.]])"
      ]
     },
     "execution_count": 56,
     "metadata": {},
     "output_type": "execute_result"
    }
   ],
   "source": [
    "tensor"
   ]
  },
  {
   "cell_type": "markdown",
   "id": "71c1b093",
   "metadata": {},
   "source": [
    "**Produto de Tensores (elemento a elemento)"
   ]
  },
  {
   "cell_type": "code",
   "execution_count": 57,
   "id": "d4bc87be",
   "metadata": {},
   "outputs": [
    {
     "data": {
      "text/plain": [
       "tensor([[1., 1., 1., 0.],\n",
       "        [1., 1., 1., 0.],\n",
       "        [1., 1., 1., 0.],\n",
       "        [1., 1., 1., 0.]])"
      ]
     },
     "execution_count": 57,
     "metadata": {},
     "output_type": "execute_result"
    }
   ],
   "source": [
    "tensor * tensor"
   ]
  },
  {
   "cell_type": "code",
   "execution_count": 58,
   "id": "c57a3a99",
   "metadata": {},
   "outputs": [
    {
     "data": {
      "text/plain": [
       "tensor([[1., 1., 1., 0.],\n",
       "        [1., 1., 1., 0.],\n",
       "        [1., 1., 1., 0.],\n",
       "        [1., 1., 1., 0.]])"
      ]
     },
     "execution_count": 58,
     "metadata": {},
     "output_type": "execute_result"
    }
   ],
   "source": [
    "tensor.mul(tensor)"
   ]
  },
  {
   "cell_type": "markdown",
   "id": "a4a36952",
   "metadata": {},
   "source": [
    "**Conversão de Tensores para Python**\n",
    "\n",
    "Se você tiver um tensor de um elemento, você pode convertê-lo em um valor numérico padrão do Python\n",
    " utilizando ``item()``:"
   ]
  },
  {
   "cell_type": "code",
   "execution_count": 59,
   "id": "dd3cc79b",
   "metadata": {},
   "outputs": [
    {
     "data": {
      "text/plain": [
       "tensor(12.)"
      ]
     },
     "execution_count": 59,
     "metadata": {},
     "output_type": "execute_result"
    }
   ],
   "source": [
    "agg = tensor.sum()\n",
    "agg"
   ]
  },
  {
   "cell_type": "code",
   "execution_count": 60,
   "id": "48c45d5e",
   "metadata": {},
   "outputs": [
    {
     "name": "stdout",
     "output_type": "stream",
     "text": [
      "12.0 <class 'float'>\n"
     ]
    }
   ],
   "source": [
    "agg_item = agg.item()\n",
    "print(agg_item, type(agg_item))"
   ]
  },
  {
   "cell_type": "markdown",
   "id": "04ed40db",
   "metadata": {},
   "source": [
    "Se você tiver um tensor de vários elemento, você pode convertê-lo em uma lista padrão do Python\n",
    " utilizando ``tolist()``:"
   ]
  },
  {
   "cell_type": "code",
   "execution_count": 61,
   "id": "adc87159",
   "metadata": {},
   "outputs": [
    {
     "name": "stdout",
     "output_type": "stream",
     "text": [
      "[[1.0, 1.0, 1.0, 0.0], [1.0, 1.0, 1.0, 0.0], [1.0, 1.0, 1.0, 0.0], [1.0, 1.0, 1.0, 0.0]] <class 'list'>\n"
     ]
    }
   ],
   "source": [
    "python_list = tensor.tolist()\n",
    "print(python_list, type(python_list))"
   ]
  },
  {
   "cell_type": "markdown",
   "id": "c7f3786d",
   "metadata": {},
   "source": [
    "# Descida do Gradiente com PyTorch\n",
    "\n",
    "No seu núcleo, PyTorch fornece diferenciação automática para a construção e formação de redes neurais. Assim, quando a função que queremos adequar aos nossos dados fica muito complexa, como é o caso de uma rede neural, não será fácil gerar código manual para efetuar os cálculos. O PyTorch fornece a diferenciação automática (autograd) para que não tenhamos que nos preocupar com as derivadas.\n",
    "\n",
    "Para usar a diferenciação automática, devemos nos preocupar com dois conceitos, que já conhecemos, apenas não demos nomes para eles:\n",
    "\n",
    "1. **forward pass**: o ato de computar o resultado da função que queremos ajustar aos dados. Por exemplo, dados valores para $a$, $b$, $c$ e $d$ de uma função $f_{deg3}(x) = dx^3+ cx^2 + bx+a$, computar o valor $f_{deg3}(x)$ para um $x$ qualquer seria um forward pass.\n",
    "\n",
    "2. **backward pass**: o ato de computar as derivadas parciais para os coeficientes, dado que temos o gradiente da saída da função. Isso permite que os pesos sejam atualizados, como vimos anteriormente.\n",
    "\n",
    "Vamos introduz os conceitos fundamentais da PyTorch com a função do terceiro grau. Futuramente, vamos voltar ao PyTorch e tentar simplificar algumas coisas. O propósito inicial é se habituar com os códigos e depois as coisas ficarão mais fáceis de entender. \n",
    "\n",
    "A seguir, criaremos código do modo como um programador mais experiente em PyTorch faria."
   ]
  },
  {
   "cell_type": "markdown",
   "id": "e88ee490",
   "metadata": {},
   "source": [
    "**Processando a entrada**\n",
    "\n",
    "A entrada das nossas funções tem sido o valor de $x$. Por eficiência, vamos criar para cada entrada um novo vetor contendo $x, x^2 e x^3$, o que nos permitirá multiplicar com os coeficientes a, b, c e d"
   ]
  },
  {
   "cell_type": "code",
   "execution_count": 62,
   "id": "bc0553d5",
   "metadata": {},
   "outputs": [
    {
     "data": {
      "text/html": [
       "<div>\n",
       "<style scoped>\n",
       "    .dataframe tbody tr th:only-of-type {\n",
       "        vertical-align: middle;\n",
       "    }\n",
       "\n",
       "    .dataframe tbody tr th {\n",
       "        vertical-align: top;\n",
       "    }\n",
       "\n",
       "    .dataframe thead th {\n",
       "        text-align: right;\n",
       "    }\n",
       "</style>\n",
       "<table border=\"1\" class=\"dataframe\">\n",
       "  <thead>\n",
       "    <tr style=\"text-align: right;\">\n",
       "      <th></th>\n",
       "      <th>eruptions</th>\n",
       "      <th>waiting</th>\n",
       "    </tr>\n",
       "  </thead>\n",
       "  <tbody>\n",
       "    <tr>\n",
       "      <th>1</th>\n",
       "      <td>3.600</td>\n",
       "      <td>79</td>\n",
       "    </tr>\n",
       "    <tr>\n",
       "      <th>2</th>\n",
       "      <td>1.800</td>\n",
       "      <td>54</td>\n",
       "    </tr>\n",
       "    <tr>\n",
       "      <th>3</th>\n",
       "      <td>3.333</td>\n",
       "      <td>74</td>\n",
       "    </tr>\n",
       "    <tr>\n",
       "      <th>4</th>\n",
       "      <td>2.283</td>\n",
       "      <td>62</td>\n",
       "    </tr>\n",
       "    <tr>\n",
       "      <th>5</th>\n",
       "      <td>4.533</td>\n",
       "      <td>85</td>\n",
       "    </tr>\n",
       "  </tbody>\n",
       "</table>\n",
       "</div>"
      ],
      "text/plain": [
       "   eruptions  waiting\n",
       "1      3.600       79\n",
       "2      1.800       54\n",
       "3      3.333       74\n",
       "4      2.283       62\n",
       "5      4.533       85"
      ]
     },
     "execution_count": 62,
     "metadata": {},
     "output_type": "execute_result"
    }
   ],
   "source": [
    "import pandas as pd\n",
    "import torch\n",
    "import matplotlib.pyplot as plt\n",
    "\n",
    "\n",
    "###############################################\n",
    "# Banco de Dados: Old Faithful\n",
    "#\n",
    "# Descrição\n",
    "# Tempo de espera entre as erupções e a duração \n",
    "# da erupção do gêiser Old Faithful no Parque \n",
    "# Nacional de Yellowstone, Wyoming, EUA.\n",
    "# \n",
    "# Formato\n",
    "# Um DataFrame com 272 observações em 2 variáveis.\n",
    "# \n",
    "# [,1]\teruptions\tnumeric\t Tempo de Erupção em minutos\n",
    "# [,2]\twaiting\tnumeric\t Tempo de espera para a \n",
    "#                        próxima erupção (em minutos)\n",
    "###############################################\n",
    "\n",
    "faithful = pd.read_csv(\"data/faithful.csv\", index_col = 0)\n",
    "faithful.head()"
   ]
  },
  {
   "cell_type": "code",
   "execution_count": 63,
   "id": "1a1696ac",
   "metadata": {},
   "outputs": [],
   "source": [
    "## Utilizando os tensores do PyTorch\n",
    "\n",
    "y = torch.tensor(faithful.eruptions.values, dtype = torch.float)\n",
    "x = torch.tensor(faithful.waiting.values, dtype = torch.float)"
   ]
  },
  {
   "cell_type": "code",
   "execution_count": 64,
   "id": "cc767abd",
   "metadata": {},
   "outputs": [
    {
     "name": "stdout",
     "output_type": "stream",
     "text": [
      "torch.Size([272])\n",
      "tensor([79., 54., 74., 62., 85., 55., 88., 85., 51., 85., 54., 84., 78., 47.,\n",
      "        83., 52., 62., 84., 52., 79., 51., 47., 78., 69., 74., 83., 55., 76.,\n",
      "        78., 79., 73., 77., 66., 80., 74., 52., 48., 80., 59., 90., 80., 58.,\n",
      "        84., 58., 73., 83., 64., 53., 82., 59., 75., 90., 54., 80., 54., 83.,\n",
      "        71., 64., 77., 81., 59., 84., 48., 82., 60., 92., 78., 78., 65., 73.,\n",
      "        82., 56., 79., 71., 62., 76., 60., 78., 76., 83., 75., 82., 70., 65.,\n",
      "        73., 88., 76., 80., 48., 86., 60., 90., 50., 78., 63., 72., 84., 75.,\n",
      "        51., 82., 62., 88., 49., 83., 81., 47., 84., 52., 86., 81., 75., 59.,\n",
      "        89., 79., 59., 81., 50., 85., 59., 87., 53., 69., 77., 56., 88., 81.,\n",
      "        45., 82., 55., 90., 45., 83., 56., 89., 46., 82., 51., 86., 53., 79.,\n",
      "        81., 60., 82., 77., 76., 59., 80., 49., 96., 53., 77., 77., 65., 81.,\n",
      "        71., 70., 81., 93., 53., 89., 45., 86., 58., 78., 66., 76., 63., 88.,\n",
      "        52., 93., 49., 57., 77., 68., 81., 81., 73., 50., 85., 74., 55., 77.,\n",
      "        83., 83., 51., 78., 84., 46., 83., 55., 81., 57., 76., 84., 77., 81.,\n",
      "        87., 77., 51., 78., 60., 82., 91., 53., 78., 46., 77., 84., 49., 83.,\n",
      "        71., 80., 49., 75., 64., 76., 53., 94., 55., 76., 50., 82., 54., 75.,\n",
      "        78., 79., 78., 78., 70., 79., 70., 54., 86., 50., 90., 54., 54., 77.,\n",
      "        79., 64., 75., 47., 86., 63., 85., 82., 57., 82., 67., 74., 54., 83.,\n",
      "        73., 73., 88., 80., 71., 83., 56., 79., 78., 84., 58., 83., 43., 60.,\n",
      "        75., 81., 46., 90., 46., 74.])\n"
     ]
    }
   ],
   "source": [
    "print(x.shape)\n",
    "print(x)"
   ]
  },
  {
   "cell_type": "code",
   "execution_count": 65,
   "id": "240449e1",
   "metadata": {},
   "outputs": [
    {
     "name": "stdout",
     "output_type": "stream",
     "text": [
      "torch.Size([272, 1])\n",
      "tensor([[79.],\n",
      "        [54.],\n",
      "        [74.],\n",
      "        [62.],\n",
      "        [85.],\n",
      "        [55.],\n",
      "        [88.],\n",
      "        [85.],\n",
      "        [51.],\n",
      "        [85.],\n",
      "        [54.],\n",
      "        [84.],\n",
      "        [78.],\n",
      "        [47.],\n",
      "        [83.],\n",
      "        [52.],\n",
      "        [62.],\n",
      "        [84.],\n",
      "        [52.],\n",
      "        [79.],\n",
      "        [51.],\n",
      "        [47.],\n",
      "        [78.],\n",
      "        [69.],\n",
      "        [74.],\n",
      "        [83.],\n",
      "        [55.],\n",
      "        [76.],\n",
      "        [78.],\n",
      "        [79.],\n",
      "        [73.],\n",
      "        [77.],\n",
      "        [66.],\n",
      "        [80.],\n",
      "        [74.],\n",
      "        [52.],\n",
      "        [48.],\n",
      "        [80.],\n",
      "        [59.],\n",
      "        [90.],\n",
      "        [80.],\n",
      "        [58.],\n",
      "        [84.],\n",
      "        [58.],\n",
      "        [73.],\n",
      "        [83.],\n",
      "        [64.],\n",
      "        [53.],\n",
      "        [82.],\n",
      "        [59.],\n",
      "        [75.],\n",
      "        [90.],\n",
      "        [54.],\n",
      "        [80.],\n",
      "        [54.],\n",
      "        [83.],\n",
      "        [71.],\n",
      "        [64.],\n",
      "        [77.],\n",
      "        [81.],\n",
      "        [59.],\n",
      "        [84.],\n",
      "        [48.],\n",
      "        [82.],\n",
      "        [60.],\n",
      "        [92.],\n",
      "        [78.],\n",
      "        [78.],\n",
      "        [65.],\n",
      "        [73.],\n",
      "        [82.],\n",
      "        [56.],\n",
      "        [79.],\n",
      "        [71.],\n",
      "        [62.],\n",
      "        [76.],\n",
      "        [60.],\n",
      "        [78.],\n",
      "        [76.],\n",
      "        [83.],\n",
      "        [75.],\n",
      "        [82.],\n",
      "        [70.],\n",
      "        [65.],\n",
      "        [73.],\n",
      "        [88.],\n",
      "        [76.],\n",
      "        [80.],\n",
      "        [48.],\n",
      "        [86.],\n",
      "        [60.],\n",
      "        [90.],\n",
      "        [50.],\n",
      "        [78.],\n",
      "        [63.],\n",
      "        [72.],\n",
      "        [84.],\n",
      "        [75.],\n",
      "        [51.],\n",
      "        [82.],\n",
      "        [62.],\n",
      "        [88.],\n",
      "        [49.],\n",
      "        [83.],\n",
      "        [81.],\n",
      "        [47.],\n",
      "        [84.],\n",
      "        [52.],\n",
      "        [86.],\n",
      "        [81.],\n",
      "        [75.],\n",
      "        [59.],\n",
      "        [89.],\n",
      "        [79.],\n",
      "        [59.],\n",
      "        [81.],\n",
      "        [50.],\n",
      "        [85.],\n",
      "        [59.],\n",
      "        [87.],\n",
      "        [53.],\n",
      "        [69.],\n",
      "        [77.],\n",
      "        [56.],\n",
      "        [88.],\n",
      "        [81.],\n",
      "        [45.],\n",
      "        [82.],\n",
      "        [55.],\n",
      "        [90.],\n",
      "        [45.],\n",
      "        [83.],\n",
      "        [56.],\n",
      "        [89.],\n",
      "        [46.],\n",
      "        [82.],\n",
      "        [51.],\n",
      "        [86.],\n",
      "        [53.],\n",
      "        [79.],\n",
      "        [81.],\n",
      "        [60.],\n",
      "        [82.],\n",
      "        [77.],\n",
      "        [76.],\n",
      "        [59.],\n",
      "        [80.],\n",
      "        [49.],\n",
      "        [96.],\n",
      "        [53.],\n",
      "        [77.],\n",
      "        [77.],\n",
      "        [65.],\n",
      "        [81.],\n",
      "        [71.],\n",
      "        [70.],\n",
      "        [81.],\n",
      "        [93.],\n",
      "        [53.],\n",
      "        [89.],\n",
      "        [45.],\n",
      "        [86.],\n",
      "        [58.],\n",
      "        [78.],\n",
      "        [66.],\n",
      "        [76.],\n",
      "        [63.],\n",
      "        [88.],\n",
      "        [52.],\n",
      "        [93.],\n",
      "        [49.],\n",
      "        [57.],\n",
      "        [77.],\n",
      "        [68.],\n",
      "        [81.],\n",
      "        [81.],\n",
      "        [73.],\n",
      "        [50.],\n",
      "        [85.],\n",
      "        [74.],\n",
      "        [55.],\n",
      "        [77.],\n",
      "        [83.],\n",
      "        [83.],\n",
      "        [51.],\n",
      "        [78.],\n",
      "        [84.],\n",
      "        [46.],\n",
      "        [83.],\n",
      "        [55.],\n",
      "        [81.],\n",
      "        [57.],\n",
      "        [76.],\n",
      "        [84.],\n",
      "        [77.],\n",
      "        [81.],\n",
      "        [87.],\n",
      "        [77.],\n",
      "        [51.],\n",
      "        [78.],\n",
      "        [60.],\n",
      "        [82.],\n",
      "        [91.],\n",
      "        [53.],\n",
      "        [78.],\n",
      "        [46.],\n",
      "        [77.],\n",
      "        [84.],\n",
      "        [49.],\n",
      "        [83.],\n",
      "        [71.],\n",
      "        [80.],\n",
      "        [49.],\n",
      "        [75.],\n",
      "        [64.],\n",
      "        [76.],\n",
      "        [53.],\n",
      "        [94.],\n",
      "        [55.],\n",
      "        [76.],\n",
      "        [50.],\n",
      "        [82.],\n",
      "        [54.],\n",
      "        [75.],\n",
      "        [78.],\n",
      "        [79.],\n",
      "        [78.],\n",
      "        [78.],\n",
      "        [70.],\n",
      "        [79.],\n",
      "        [70.],\n",
      "        [54.],\n",
      "        [86.],\n",
      "        [50.],\n",
      "        [90.],\n",
      "        [54.],\n",
      "        [54.],\n",
      "        [77.],\n",
      "        [79.],\n",
      "        [64.],\n",
      "        [75.],\n",
      "        [47.],\n",
      "        [86.],\n",
      "        [63.],\n",
      "        [85.],\n",
      "        [82.],\n",
      "        [57.],\n",
      "        [82.],\n",
      "        [67.],\n",
      "        [74.],\n",
      "        [54.],\n",
      "        [83.],\n",
      "        [73.],\n",
      "        [73.],\n",
      "        [88.],\n",
      "        [80.],\n",
      "        [71.],\n",
      "        [83.],\n",
      "        [56.],\n",
      "        [79.],\n",
      "        [78.],\n",
      "        [84.],\n",
      "        [58.],\n",
      "        [83.],\n",
      "        [43.],\n",
      "        [60.],\n",
      "        [75.],\n",
      "        [81.],\n",
      "        [46.],\n",
      "        [90.],\n",
      "        [46.],\n",
      "        [74.]])\n"
     ]
    }
   ],
   "source": [
    "## Vamos primeiramente adicionar uma dimensão no vetor\n",
    "xx = x.unsqueeze(-1)\n",
    "print(xx.shape)\n",
    "print(xx)"
   ]
  },
  {
   "cell_type": "code",
   "execution_count": 66,
   "id": "955c3a21",
   "metadata": {},
   "outputs": [
    {
     "data": {
      "text/plain": [
       "tensor([[1.0000e+00, 7.9000e+01, 6.2410e+03, 4.9304e+05],\n",
       "        [1.0000e+00, 5.4000e+01, 2.9160e+03, 1.5746e+05],\n",
       "        [1.0000e+00, 7.4000e+01, 5.4760e+03, 4.0522e+05],\n",
       "        ...,\n",
       "        [1.0000e+00, 9.0000e+01, 8.1000e+03, 7.2900e+05],\n",
       "        [1.0000e+00, 4.6000e+01, 2.1160e+03, 9.7336e+04],\n",
       "        [1.0000e+00, 7.4000e+01, 5.4760e+03, 4.0522e+05]])"
      ]
     },
     "execution_count": 66,
     "metadata": {},
     "output_type": "execute_result"
    }
   ],
   "source": [
    "## Criando a entrada, que contém 0, x, x^2 e x^3\n",
    "p = torch.tensor([0, 1, 2, 3])\n",
    "xx = xx.pow(p)\n",
    "xx"
   ]
  },
  {
   "cell_type": "markdown",
   "id": "c74fbad0",
   "metadata": {},
   "source": [
    "Os valores da entrada estão muito altos, o que posteriormente vai fazer com que tenhamos muito trabalho em configurar a taxa de aprendizado, dado que alguns elementos vão dominar os demais. Nesse caso, podemos sempre tentar no mínimo duas técnicas de normalização.\n",
    "\n",
    "1. Colocar todos os números no intervalo entre zero e 1. Nesse caso, basta:\n",
    "  * Subtrair todos os valores pelo valor mínimo na coluna.\n",
    "  * Dividir pelo novo máximo da coluna após a subtração, o que acaba sendo igual ao antigo máximo menos o antigo mínimo.\n",
    "  \n",
    "2. Colocar a média em zero e o desvio padrão em 1.\n",
    "  * Computar a média e o desvio padrão atual.\n",
    "  * Sutrair todos os elementos pela média.\n",
    "  * Dividir pelo desvio padrão atual.\n",
    "\n",
    "Vamos tentar a primeira abordagem."
   ]
  },
  {
   "cell_type": "code",
   "execution_count": 67,
   "id": "8257b976",
   "metadata": {},
   "outputs": [
    {
     "data": {
      "text/plain": [
       "tensor([[1.0000, 0.6792, 0.5962, 0.5136],\n",
       "        [1.0000, 0.2075, 0.1448, 0.0968],\n",
       "        [1.0000, 0.5849, 0.4923, 0.4045],\n",
       "        ...,\n",
       "        [1.0000, 0.8868, 0.8485, 0.8066],\n",
       "        [1.0000, 0.0566, 0.0362, 0.0221],\n",
       "        [1.0000, 0.5849, 0.4923, 0.4045]])"
      ]
     },
     "execution_count": 67,
     "metadata": {},
     "output_type": "execute_result"
    }
   ],
   "source": [
    "## Computando máximo e mínimo de cada coluna\n",
    "maximo = xx.max(axis = 0).values\n",
    "minimo = xx.min(axis = 0).values\n",
    "\n",
    "# Para não dar divisão por zero na primeira \n",
    "# coluna com todos os elementos 1\n",
    "minimo[0] = 0 \n",
    "\n",
    "## Normalizando\n",
    "xx = (xx - minimo)/(maximo - minimo)\n",
    "\n",
    "xx"
   ]
  },
  {
   "cell_type": "markdown",
   "id": "084aa8d3",
   "metadata": {},
   "source": [
    "**Vetor de Coeficientes**\n",
    "\n",
    "Anteriormente, colocávamos os valores de $a$, $b$, $c$ e $d$ em variáveis. Entretanto, é mais eficiente colocar em um tensor, como a seguir.\n",
    "\n",
    "Note que colocamos **requires_grad=True**, que significa que queremos que o gradiente seja computado em função das variáveis dentro deste vetor."
   ]
  },
  {
   "cell_type": "code",
   "execution_count": 68,
   "id": "cd756162",
   "metadata": {},
   "outputs": [
    {
     "data": {
      "text/plain": [
       "tensor([0.5212, 0.5021, 0.4072, 0.5413], requires_grad=True)"
      ]
     },
     "execution_count": 68,
     "metadata": {},
     "output_type": "execute_result"
    }
   ],
   "source": [
    "## As variáveis a, b, c e d estão no tensor a seguir\n",
    "## inicializado ao acaso\n",
    "coef = torch.rand(4, requires_grad=True)\n",
    "coef"
   ]
  },
  {
   "cell_type": "markdown",
   "id": "ab20f74d",
   "metadata": {},
   "source": [
    "**Passo forward**\n",
    "\n",
    "Podemos computar a função para todas as instâncias de uma só vez, sem laço de repetição, usando **torch.inner**. Produto escalar"
   ]
  },
  {
   "cell_type": "code",
   "execution_count": 69,
   "id": "926bd59d",
   "metadata": {},
   "outputs": [
    {
     "data": {
      "text/plain": [
       "torch.Size([272])"
      ]
     },
     "execution_count": 69,
     "metadata": {},
     "output_type": "execute_result"
    }
   ],
   "source": [
    "forward = torch.inner(xx, coef)\n",
    "forward.shape"
   ]
  },
  {
   "cell_type": "markdown",
   "id": "449d9942",
   "metadata": {},
   "source": [
    "**Função de Erro**\n",
    "\n",
    "O pytorch também contém definições de funções de erro populares. A que temos\n",
    "usado até agora é próxima do que chamamos de \"Erro Quadrático Médio\". Então,\n",
    "usaremos MSE como nossa função de erro."
   ]
  },
  {
   "cell_type": "code",
   "execution_count": 70,
   "id": "6a9079b2",
   "metadata": {},
   "outputs": [],
   "source": [
    "loss_fn = torch.nn.MSELoss()"
   ]
  },
  {
   "cell_type": "markdown",
   "id": "43134222",
   "metadata": {},
   "source": [
    "**Treinamento**\n",
    "\n",
    "Vamos agora realizar o treinamento. O que você deve observar a seguir é:"
   ]
  },
  {
   "cell_type": "code",
   "execution_count": 71,
   "id": "089c5a66",
   "metadata": {},
   "outputs": [
    {
     "name": "stdout",
     "output_type": "stream",
     "text": [
      "0 6.006956100463867\n"
     ]
    },
    {
     "name": "stdout",
     "output_type": "stream",
     "text": [
      "100000 0.22105756402015686\n",
      "200000 0.21207670867443085\n",
      "300000 0.20568186044692993\n",
      "400000 0.20109258592128754\n",
      "500000 0.1977861225605011\n",
      "600000 0.1954183131456375\n",
      "700000 0.19377362728118896\n",
      "800000 0.1926954686641693\n",
      "900000 0.19207023084163666\n"
     ]
    }
   ],
   "source": [
    "# Configurando a taxa de aprendizado.\n",
    "# Vamos deixar um valor alto como sendo\n",
    "# o máximo que a taxa de aprendizado\n",
    "# pode receber. Daí, vamos construir\n",
    "# a taxa dentro do laço\n",
    "max_learning_rate = 0.5\n",
    "\n",
    "epochs = 1000000\n",
    "for t in range(epochs):\n",
    "\n",
    "    # Gerando taxa de aprendizado.\n",
    "    learning_rate = max_learning_rate * (1 - t/epochs)\n",
    "    \n",
    "    # Forward pass: podemos passar a entrada para o modelo.\n",
    "    y_pred = torch.inner(xx, coef)\n",
    "\n",
    "    # Computa e imprime o erro. Passamos tensores contendo os valores preditos e\n",
    "    # os valores reais e a loss retorna um tensor contendo o erro.\n",
    "    loss = loss_fn(y_pred, y)\n",
    "    \n",
    "    ## Imprimindo dez vezes a loss\n",
    "    if t % (epochs / 10) == 0 :\n",
    "        print(t, loss.item())\n",
    "\n",
    "\n",
    "    # Backward pass:  computar o gradiente da loss em relação a todos os\n",
    "    # coeficientes a serem aprendidos no modelo.\n",
    "    loss.backward()\n",
    "    \n",
    "\n",
    "    # Atualizar os pesos usando a descida por gradiente, como fizemos anteriormente.\n",
    "    # Cada parâmetro é um Tensor,então podemos acessar seus gradientes como\n",
    "    # fizemos antes.\n",
    "    coef.data -= learning_rate * coef.grad.data\n",
    "    \n",
    "    # Limpamos os gradientes antes da próxima iteração\n",
    "    coef.grad.data.zero_()"
   ]
  },
  {
   "cell_type": "code",
   "execution_count": 72,
   "id": "3a1652dd",
   "metadata": {},
   "outputs": [
    {
     "data": {
      "text/plain": [
       "[1.6289076805114746, -34.14218521118164, 82.76078033447266, -45.84678268432617]"
      ]
     },
     "execution_count": 72,
     "metadata": {},
     "output_type": "execute_result"
    }
   ],
   "source": [
    "coef.tolist()"
   ]
  },
  {
   "cell_type": "code",
   "execution_count": 73,
   "id": "523dc5b4",
   "metadata": {},
   "outputs": [
    {
     "ename": "",
     "evalue": "",
     "output_type": "error",
     "traceback": [
      "\u001b[1;31mCannot execute code, session has been disposed. Please try restarting the Kernel."
     ]
    },
    {
     "ename": "",
     "evalue": "",
     "output_type": "error",
     "traceback": [
      "\u001b[1;31mThe Kernel crashed while executing code in the the current cell or a previous cell. Please review the code in the cell(s) to identify a possible cause of the failure. Click <a href='https://aka.ms/vscodeJupyterKernelCrash'>here</a> for more info. View Jupyter <a href='command:jupyter.viewOutput'>log</a> for further details."
     ]
    }
   ],
   "source": [
    "## Plotando os gráficos    \n",
    "faithful.plot.scatter(x='waiting',\n",
    "                      y='eruptions')    \n",
    "\n",
    "# Gerando eixo_x\n",
    "eixo_x = torch.tensor(range(40,100,2))\n",
    "\n",
    "# Computando 1, x, x^2, x^3\n",
    "eixo_xx = eixo_x.unsqueeze(-1)\n",
    "p = torch.tensor([0, 1, 2, 3])\n",
    "eixo_xx = eixo_xx.pow(p)\n",
    "\n",
    "# Normalizando os valores do eixo_x\n",
    "normal_xx = (eixo_xx - minimo)/(maximo - minimo)\n",
    "\n",
    "## Obtendo o eixo_y para esses valores\n",
    "eixo_y = torch.inner(normal_xx, coef)\n",
    "\n",
    "## Plotando a reta    \n",
    "plt.plot(eixo_x.tolist(), eixo_y.tolist(), 'r--', label='Valores Obtidos')"
   ]
  },
  {
   "cell_type": "code",
   "execution_count": null,
   "id": "f41e9419",
   "metadata": {},
   "outputs": [
    {
     "data": {
      "text/plain": [
       "tensor([1.6474, 1.6270, 1.6390, 1.6808, 1.7496, 1.8427, 1.9573, 2.0908, 2.2404,\n",
       "        2.4033, 2.5769, 2.7583, 2.9449, 3.1339, 3.3226, 3.5083, 3.6881, 3.8595,\n",
       "        4.0196, 4.1657, 4.2951, 4.4051, 4.4929, 4.5557, 4.5909, 4.5957, 4.5674,\n",
       "        4.5033, 4.4005, 4.2564], grad_fn=<ViewBackward0>)"
      ]
     },
     "execution_count": 73,
     "metadata": {},
     "output_type": "execute_result"
    }
   ],
   "source": [
    "eixo_y"
   ]
  },
  {
   "cell_type": "markdown",
   "id": "19d5cdb2",
   "metadata": {},
   "source": [
    "# Regressão Logística\n",
    "\n",
    "E se o que gostaríamos de prever  são dados categóricos? Por exemplo, queremos saber se uma foto de um animação de estimação corresponde a um cachorro ou a um gato. Nesses casos, a regressão linear não é muito adequada. Por outro lado, a regressão logística (que na verdade não é uma técnica de regressão, mas de classificação) pode ser uma opção muito apropriada.\n",
    "\n",
    "Para entender alguns conceitos de regressão logística e como ela difere da regressão, vamos gerar um novo banco de dados a partir do *old faithful* da seguinte forma. Os usuários gostariam apenas de saber se uma dada erupção iria demorar muito ou pouco, sendo que esses termos são definidos da seguinte forma:\n",
    "\n",
    "* muito (1): erupção maior do que 3.5\n",
    "* pouco (0): erupção menor ou igual a 3.5\n",
    "\n",
    "Nesse caso, os valores do eixo X não mudam, mas os valores do eixo Y respondem de forma diferente, em zeros e uns."
   ]
  },
  {
   "cell_type": "code",
   "execution_count": null,
   "id": "33ee9481",
   "metadata": {},
   "outputs": [
    {
     "data": {
      "text/html": [
       "<div>\n",
       "<style scoped>\n",
       "    .dataframe tbody tr th:only-of-type {\n",
       "        vertical-align: middle;\n",
       "    }\n",
       "\n",
       "    .dataframe tbody tr th {\n",
       "        vertical-align: top;\n",
       "    }\n",
       "\n",
       "    .dataframe thead th {\n",
       "        text-align: right;\n",
       "    }\n",
       "</style>\n",
       "<table border=\"1\" class=\"dataframe\">\n",
       "  <thead>\n",
       "    <tr style=\"text-align: right;\">\n",
       "      <th></th>\n",
       "      <th>eruptions</th>\n",
       "      <th>waiting</th>\n",
       "      <th>eruptions_bin</th>\n",
       "    </tr>\n",
       "  </thead>\n",
       "  <tbody>\n",
       "    <tr>\n",
       "      <th>1</th>\n",
       "      <td>3.600</td>\n",
       "      <td>79</td>\n",
       "      <td>1</td>\n",
       "    </tr>\n",
       "    <tr>\n",
       "      <th>2</th>\n",
       "      <td>1.800</td>\n",
       "      <td>54</td>\n",
       "      <td>0</td>\n",
       "    </tr>\n",
       "    <tr>\n",
       "      <th>3</th>\n",
       "      <td>3.333</td>\n",
       "      <td>74</td>\n",
       "      <td>0</td>\n",
       "    </tr>\n",
       "    <tr>\n",
       "      <th>4</th>\n",
       "      <td>2.283</td>\n",
       "      <td>62</td>\n",
       "      <td>0</td>\n",
       "    </tr>\n",
       "    <tr>\n",
       "      <th>5</th>\n",
       "      <td>4.533</td>\n",
       "      <td>85</td>\n",
       "      <td>1</td>\n",
       "    </tr>\n",
       "  </tbody>\n",
       "</table>\n",
       "</div>"
      ],
      "text/plain": [
       "   eruptions  waiting  eruptions_bin\n",
       "1      3.600       79              1\n",
       "2      1.800       54              0\n",
       "3      3.333       74              0\n",
       "4      2.283       62              0\n",
       "5      4.533       85              1"
      ]
     },
     "execution_count": 74,
     "metadata": {},
     "output_type": "execute_result"
    }
   ],
   "source": [
    "faithful[\"eruptions_bin\"] = (faithful.eruptions > 3.5).astype(int)\n",
    "faithful.head()"
   ]
  },
  {
   "cell_type": "markdown",
   "id": "db6bf9ea",
   "metadata": {},
   "source": [
    "Vamos plotar esses valores em um gráfico para entendermos melhor a distribuição."
   ]
  },
  {
   "cell_type": "code",
   "execution_count": null,
   "id": "ce400606",
   "metadata": {},
   "outputs": [
    {
     "data": {
      "text/plain": [
       "<Axes: xlabel='waiting', ylabel='eruptions_bin'>"
      ]
     },
     "execution_count": 75,
     "metadata": {},
     "output_type": "execute_result"
    },
    {
     "data": {
      "image/png": "[encoded data removed]",
      "text/plain": [
       "<Figure size 640x480 with 1 Axes>"
      ]
     },
     "metadata": {},
     "output_type": "display_data"
    }
   ],
   "source": [
    "## Plotando os gráficos    \n",
    "faithful.plot.scatter(x='waiting',\n",
    "                      y='eruptions_bin')    "
   ]
  },
  {
   "cell_type": "markdown",
   "id": "46f7193d",
   "metadata": {},
   "source": [
    "De agora em diante, vamos usar como eixo Y essas variáveis binarizadas:"
   ]
  },
  {
   "cell_type": "code",
   "execution_count": null,
   "id": "c69a8583",
   "metadata": {},
   "outputs": [],
   "source": [
    "y = torch.tensor(faithful.eruptions_bin.values, dtype = torch.float)\n",
    "x = torch.tensor(faithful.waiting.values, dtype = torch.float)"
   ]
  },
  {
   "cell_type": "code",
   "execution_count": null,
   "id": "6deaba4f",
   "metadata": {},
   "outputs": [],
   "source": [
    "## Vamos usar apenas uma função y = ax + b, então\n",
    "## não precisamos mudar muito o valor de x, apenas\n",
    "## normalizaremos.\n",
    "\n",
    "maximo = x.max(axis = 0).values\n",
    "xx = x.unsqueeze(-1) / maximo"
   ]
  },
  {
   "cell_type": "code",
   "execution_count": null,
   "id": "ef258fe9",
   "metadata": {},
   "outputs": [
    {
     "data": {
      "text/plain": [
       "tensor([[0.8229],\n",
       "        [0.5625],\n",
       "        [0.7708],\n",
       "        [0.6458],\n",
       "        [0.8854],\n",
       "        [0.5729],\n",
       "        [0.9167],\n",
       "        [0.8854],\n",
       "        [0.5312],\n",
       "        [0.8854],\n",
       "        [0.5625],\n",
       "        [0.8750],\n",
       "        [0.8125],\n",
       "        [0.4896],\n",
       "        [0.8646],\n",
       "        [0.5417],\n",
       "        [0.6458],\n",
       "        [0.8750],\n",
       "        [0.5417],\n",
       "        [0.8229],\n",
       "        [0.5312],\n",
       "        [0.4896],\n",
       "        [0.8125],\n",
       "        [0.7188],\n",
       "        [0.7708],\n",
       "        [0.8646],\n",
       "        [0.5729],\n",
       "        [0.7917],\n",
       "        [0.8125],\n",
       "        [0.8229],\n",
       "        [0.7604],\n",
       "        [0.8021],\n",
       "        [0.6875],\n",
       "        [0.8333],\n",
       "        [0.7708],\n",
       "        [0.5417],\n",
       "        [0.5000],\n",
       "        [0.8333],\n",
       "        [0.6146],\n",
       "        [0.9375],\n",
       "        [0.8333],\n",
       "        [0.6042],\n",
       "        [0.8750],\n",
       "        [0.6042],\n",
       "        [0.7604],\n",
       "        [0.8646],\n",
       "        [0.6667],\n",
       "        [0.5521],\n",
       "        [0.8542],\n",
       "        [0.6146],\n",
       "        [0.7812],\n",
       "        [0.9375],\n",
       "        [0.5625],\n",
       "        [0.8333],\n",
       "        [0.5625],\n",
       "        [0.8646],\n",
       "        [0.7396],\n",
       "        [0.6667],\n",
       "        [0.8021],\n",
       "        [0.8438],\n",
       "        [0.6146],\n",
       "        [0.8750],\n",
       "        [0.5000],\n",
       "        [0.8542],\n",
       "        [0.6250],\n",
       "        [0.9583],\n",
       "        [0.8125],\n",
       "        [0.8125],\n",
       "        [0.6771],\n",
       "        [0.7604],\n",
       "        [0.8542],\n",
       "        [0.5833],\n",
       "        [0.8229],\n",
       "        [0.7396],\n",
       "        [0.6458],\n",
       "        [0.7917],\n",
       "        [0.6250],\n",
       "        [0.8125],\n",
       "        [0.7917],\n",
       "        [0.8646],\n",
       "        [0.7812],\n",
       "        [0.8542],\n",
       "        [0.7292],\n",
       "        [0.6771],\n",
       "        [0.7604],\n",
       "        [0.9167],\n",
       "        [0.7917],\n",
       "        [0.8333],\n",
       "        [0.5000],\n",
       "        [0.8958],\n",
       "        [0.6250],\n",
       "        [0.9375],\n",
       "        [0.5208],\n",
       "        [0.8125],\n",
       "        [0.6562],\n",
       "        [0.7500],\n",
       "        [0.8750],\n",
       "        [0.7812],\n",
       "        [0.5312],\n",
       "        [0.8542],\n",
       "        [0.6458],\n",
       "        [0.9167],\n",
       "        [0.5104],\n",
       "        [0.8646],\n",
       "        [0.8438],\n",
       "        [0.4896],\n",
       "        [0.8750],\n",
       "        [0.5417],\n",
       "        [0.8958],\n",
       "        [0.8438],\n",
       "        [0.7812],\n",
       "        [0.6146],\n",
       "        [0.9271],\n",
       "        [0.8229],\n",
       "        [0.6146],\n",
       "        [0.8438],\n",
       "        [0.5208],\n",
       "        [0.8854],\n",
       "        [0.6146],\n",
       "        [0.9062],\n",
       "        [0.5521],\n",
       "        [0.7188],\n",
       "        [0.8021],\n",
       "        [0.5833],\n",
       "        [0.9167],\n",
       "        [0.8438],\n",
       "        [0.4688],\n",
       "        [0.8542],\n",
       "        [0.5729],\n",
       "        [0.9375],\n",
       "        [0.4688],\n",
       "        [0.8646],\n",
       "        [0.5833],\n",
       "        [0.9271],\n",
       "        [0.4792],\n",
       "        [0.8542],\n",
       "        [0.5312],\n",
       "        [0.8958],\n",
       "        [0.5521],\n",
       "        [0.8229],\n",
       "        [0.8438],\n",
       "        [0.6250],\n",
       "        [0.8542],\n",
       "        [0.8021],\n",
       "        [0.7917],\n",
       "        [0.6146],\n",
       "        [0.8333],\n",
       "        [0.5104],\n",
       "        [1.0000],\n",
       "        [0.5521],\n",
       "        [0.8021],\n",
       "        [0.8021],\n",
       "        [0.6771],\n",
       "        [0.8438],\n",
       "        [0.7396],\n",
       "        [0.7292],\n",
       "        [0.8438],\n",
       "        [0.9688],\n",
       "        [0.5521],\n",
       "        [0.9271],\n",
       "        [0.4688],\n",
       "        [0.8958],\n",
       "        [0.6042],\n",
       "        [0.8125],\n",
       "        [0.6875],\n",
       "        [0.7917],\n",
       "        [0.6562],\n",
       "        [0.9167],\n",
       "        [0.5417],\n",
       "        [0.9688],\n",
       "        [0.5104],\n",
       "        [0.5938],\n",
       "        [0.8021],\n",
       "        [0.7083],\n",
       "        [0.8438],\n",
       "        [0.8438],\n",
       "        [0.7604],\n",
       "        [0.5208],\n",
       "        [0.8854],\n",
       "        [0.7708],\n",
       "        [0.5729],\n",
       "        [0.8021],\n",
       "        [0.8646],\n",
       "        [0.8646],\n",
       "        [0.5312],\n",
       "        [0.8125],\n",
       "        [0.8750],\n",
       "        [0.4792],\n",
       "        [0.8646],\n",
       "        [0.5729],\n",
       "        [0.8438],\n",
       "        [0.5938],\n",
       "        [0.7917],\n",
       "        [0.8750],\n",
       "        [0.8021],\n",
       "        [0.8438],\n",
       "        [0.9062],\n",
       "        [0.8021],\n",
       "        [0.5312],\n",
       "        [0.8125],\n",
       "        [0.6250],\n",
       "        [0.8542],\n",
       "        [0.9479],\n",
       "        [0.5521],\n",
       "        [0.8125],\n",
       "        [0.4792],\n",
       "        [0.8021],\n",
       "        [0.8750],\n",
       "        [0.5104],\n",
       "        [0.8646],\n",
       "        [0.7396],\n",
       "        [0.8333],\n",
       "        [0.5104],\n",
       "        [0.7812],\n",
       "        [0.6667],\n",
       "        [0.7917],\n",
       "        [0.5521],\n",
       "        [0.9792],\n",
       "        [0.5729],\n",
       "        [0.7917],\n",
       "        [0.5208],\n",
       "        [0.8542],\n",
       "        [0.5625],\n",
       "        [0.7812],\n",
       "        [0.8125],\n",
       "        [0.8229],\n",
       "        [0.8125],\n",
       "        [0.8125],\n",
       "        [0.7292],\n",
       "        [0.8229],\n",
       "        [0.7292],\n",
       "        [0.5625],\n",
       "        [0.8958],\n",
       "        [0.5208],\n",
       "        [0.9375],\n",
       "        [0.5625],\n",
       "        [0.5625],\n",
       "        [0.8021],\n",
       "        [0.8229],\n",
       "        [0.6667],\n",
       "        [0.7812],\n",
       "        [0.4896],\n",
       "        [0.8958],\n",
       "        [0.6562],\n",
       "        [0.8854],\n",
       "        [0.8542],\n",
       "        [0.5938],\n",
       "        [0.8542],\n",
       "        [0.6979],\n",
       "        [0.7708],\n",
       "        [0.5625],\n",
       "        [0.8646],\n",
       "        [0.7604],\n",
       "        [0.7604],\n",
       "        [0.9167],\n",
       "        [0.8333],\n",
       "        [0.7396],\n",
       "        [0.8646],\n",
       "        [0.5833],\n",
       "        [0.8229],\n",
       "        [0.8125],\n",
       "        [0.8750],\n",
       "        [0.6042],\n",
       "        [0.8646],\n",
       "        [0.4479],\n",
       "        [0.6250],\n",
       "        [0.7812],\n",
       "        [0.8438],\n",
       "        [0.4792],\n",
       "        [0.9375],\n",
       "        [0.4792],\n",
       "        [0.7708]])"
      ]
     },
     "execution_count": 78,
     "metadata": {},
     "output_type": "execute_result"
    }
   ],
   "source": [
    "xx"
   ]
  },
  {
   "cell_type": "markdown",
   "id": "24ef4614",
   "metadata": {},
   "source": [
    "## Função Sigmóide\n",
    "\n",
    "Note que criar um oráculo baseado em uma reta nesse conjunto de pontos seria bastante contra-intuitivo, dado que o valor do oráculo não teria relação nenhuma com os valores $0$s e $1$s em si. \n",
    "\n",
    "O que nós precisamos, é de uma função que possa ser interpretada como uma probabilidade. Em outras palavras, nós precisamos que o retorno do oráculo seja um valor $V$ que possa ser lido como $Pr(y = 1) = V$. Usaremos para isso a função sigmóide que estudamos na Atividade 02 dada pela seguinte equação: \n",
    "\n",
    "$$f(x) = \\frac{1}{1 + e^{-g(x)}}$$\n",
    "\n",
    "Nesta equação, $g(x)$ pode ser visto como o resultado de uma Regressão Linear. Em outras palavras, faremos $g(x) = ax + b$.\n",
    "\n",
    "O formato da função pode ser visto no gráfico a seguir."
   ]
  },
  {
   "cell_type": "code",
   "execution_count": null,
   "id": "9bfb7c23",
   "metadata": {},
   "outputs": [
    {
     "data": {
      "text/plain": [
       "[<matplotlib.lines.Line2D at 0x1659b6b50>]"
      ]
     },
     "execution_count": 79,
     "metadata": {},
     "output_type": "execute_result"
    },
    {
     "data": {
      "image/png": "[encoded data removed]",
      "text/plain": [
       "<Figure size 640x480 with 1 Axes>"
      ]
     },
     "metadata": {},
     "output_type": "display_data"
    }
   ],
   "source": [
    "## Plotando os gráficos    \n",
    "faithful.plot.scatter(x='waiting',\n",
    "                      y='eruptions_bin')    \n",
    "\n",
    "# Gerando eixo_x\n",
    "eixo_x = torch.tensor(range(40,100,2))\n",
    "\n",
    "# Gerando eixo_y\n",
    "g    = lambda x : x/2 - 33 \n",
    "sigm = lambda x : 1 / (1 + torch.exp(-g(x)))\n",
    "\n",
    "eixo_y = sigm(eixo_x)\n",
    "\n",
    "plt.plot(eixo_x.tolist(), eixo_y.tolist(), 'r--')"
   ]
  },
  {
   "cell_type": "markdown",
   "id": "a4ccf8ee",
   "metadata": {},
   "source": [
    "Um classificador de aprendizado de máquina ajustaria a função sigmóide e, posteriormente, escolheria um threshold interpretando o resultado da função logística como uma probabilidade. Nesse caso, poderíamos prever que o resultado final seria **1** se a probabilidade (resultado da função sigmóide) de ser **1** for maior do que **50%**. Nesse caso, o limiar seria o **0.50**.\n",
    "\n",
    "Por exemplo, no ponto $x = 60$ teríamos:"
   ]
  },
  {
   "cell_type": "code",
   "execution_count": null,
   "id": "fd102d97",
   "metadata": {},
   "outputs": [
    {
     "data": {
      "text/plain": [
       "tensor(0.0474)"
      ]
     },
     "execution_count": 80,
     "metadata": {},
     "output_type": "execute_result"
    }
   ],
   "source": [
    "sigm(torch.tensor(60))"
   ]
  },
  {
   "cell_type": "markdown",
   "id": "e6f64f88",
   "metadata": {},
   "source": [
    "A curva sigmóide devolveu $0.04$, em outras palavras, interpretaremos que a $Pr(y = 1) = 4\\%$ para esta instância específica.\n",
    "\n",
    "Escolheremos agora o ponto $65$."
   ]
  },
  {
   "cell_type": "code",
   "execution_count": null,
   "id": "325735f0",
   "metadata": {},
   "outputs": [
    {
     "data": {
      "text/plain": [
       "tensor(0.3775)"
      ]
     },
     "execution_count": 81,
     "metadata": {},
     "output_type": "execute_result"
    }
   ],
   "source": [
    "sigm(torch.tensor(65))"
   ]
  },
  {
   "cell_type": "markdown",
   "id": "a3b0cdb5",
   "metadata": {},
   "source": [
    "Agora $Pr(y = 1) = 37.7\\%$. Vamos tentar agora $x = 70$."
   ]
  },
  {
   "cell_type": "code",
   "execution_count": null,
   "id": "cf680a2a",
   "metadata": {},
   "outputs": [
    {
     "data": {
      "text/plain": [
       "tensor(0.8808)"
      ]
     },
     "execution_count": 82,
     "metadata": {},
     "output_type": "execute_result"
    }
   ],
   "source": [
    "sigm(torch.tensor(70))"
   ]
  },
  {
   "cell_type": "markdown",
   "id": "ec670c41",
   "metadata": {},
   "source": [
    "Agora a probabilidade $Pr(y = 1) = 88\\%$. Nesse caso, temos um forte indício de que o rótulo marcado no banco de dados deve ser realmente 1, podendo então fazer uma escolha neste sentido."
   ]
  },
  {
   "cell_type": "markdown",
   "id": "a1b33f5b",
   "metadata": {},
   "source": [
    "## A Entropia Cruzada Binária\n",
    "\n",
    "Vimos anteriormente que existe uma função chamada de *entropia cruzada binária* dada pela fórmula:\n",
    "\n",
    "$$ -\\frac{1}{n} \\sum_{i=1}^n [y_i  \\log(\\hat y_i) + (1-y_i)  \\log(1-\\hat y_i) ]$$ \n",
    "\n",
    "Vamos agora entender porque esta função pode ser usada como uma função de custo para medir erros na predição $\\hat y_i$ de variáveis $y_i$, dado que $y_i \\in \\{0, 1\\}$. Posteriormente, mostraremos que esta função de custo é superior ao *erro quadrático médio* em problemas de regressão logística.\n",
    "\n",
    "Para início de conversa, devemos notar que dentro do somatório existem dois termos que se somam, sendo que um deles será sempre anulado. Isso ocorre porque:\n",
    "\n",
    "1. Se $y_i = 0$, então o primeiro termo será anulado por multiplicar com $y_i$.\n",
    "2. Se $y_i = 1$, então o segundo termo será anulado por multiplicar com $(1-y_i)$.\n",
    "\n",
    "Dessa forma, os multiplicadores $y_i$ e $(1-y_i)$ só existem para dizer qual termo será utilizado, então partiremos para o segundo elemento dentro de cada termo, o fator de $\\log$. O logaritmando usado é um elemento entre zero e um, dado que este é o intervalo da função sigmóide aplicada na saída da regressão logística, então vale a pena lembrar como a função logaritmo se comporta nesse intervalo. "
   ]
  },
  {
   "cell_type": "code",
   "execution_count": null,
   "id": "dfe5b7de",
   "metadata": {},
   "outputs": [
    {
     "data": {
      "text/plain": [
       "tensor([   -inf, -4.5951, -3.9020, -3.4965, -3.2088, -2.9857, -2.8034, -2.6492,\n",
       "        -2.5157, -2.3979, -2.2925, -2.1972, -2.1102, -2.0302, -1.9561, -1.8871,\n",
       "        -1.8225, -1.7619, -1.7047, -1.6507, -1.5994, -1.5506, -1.5041, -1.4596,\n",
       "        -1.4171, -1.3762, -1.3370, -1.2993, -1.2629, -1.2278, -1.1939, -1.1611,\n",
       "        -1.1294, -1.0986, -1.0688, -1.0398, -1.0116, -0.9842, -0.9575, -0.9316,\n",
       "        -0.9062, -0.8815, -0.8575, -0.8339, -0.8109, -0.7885, -0.7665, -0.7450,\n",
       "        -0.7239, -0.7033, -0.6831, -0.6633, -0.6439, -0.6248, -0.6061, -0.5878,\n",
       "        -0.5698, -0.5521, -0.5347, -0.5176, -0.5008, -0.4842, -0.4680, -0.4520,\n",
       "        -0.4362, -0.4207, -0.4055, -0.3904, -0.3756, -0.3610, -0.3466, -0.3324,\n",
       "        -0.3185, -0.3047, -0.2911, -0.2776, -0.2644, -0.2513, -0.2384, -0.2257,\n",
       "        -0.2131, -0.2007, -0.1884, -0.1763, -0.1643, -0.1525, -0.1408, -0.1292,\n",
       "        -0.1178, -0.1065, -0.0953, -0.0843, -0.0733, -0.0625, -0.0518, -0.0412,\n",
       "        -0.0308, -0.0204, -0.0102,  0.0000])"
      ]
     },
     "execution_count": 83,
     "metadata": {},
     "output_type": "execute_result"
    },
    {
     "data": {
      "image/png": "[encoded data removed]",
      "text/plain": [
       "<Figure size 640x480 with 1 Axes>"
      ]
     },
     "metadata": {},
     "output_type": "display_data"
    }
   ],
   "source": [
    "eixo_x = torch.linspace(0, 1, steps = 100)\n",
    "eixo_y = torch.log(eixo_x)\n",
    "\n",
    "plt.plot(eixo_x.tolist(), eixo_y.tolist())\n",
    "\n",
    "eixo_y"
   ]
  },
  {
   "cell_type": "markdown",
   "id": "c6dc6671",
   "metadata": {},
   "source": [
    "Pelo gráfico, notamos que:\n",
    "\n",
    "1. O logaritmo é negativo.\n",
    "2. Quando o logaritmando se aproxima de $1$, o logaritmo se aproxima de $0$.\n",
    "3. Quando o logaritmando se aproxima de $0$, o logaritmo se aproxima de $-\\infty$.\n",
    "\n",
    "Vamos analisar agora o primeiro termo  $y_i  \\log(\\hat y_i)$, que só é válido quando $y_i = 1$. É fácil notar que:\n",
    "\n",
    "1. Se $\\hat y_i$ for algo muito próximo de $1$, ou seja, $\\hat y_i$ está tendo sucesso ao prever $i$, então $\\log(\\hat y_i)$ se aproximará de zero, fazendo com que o retorno da entropia cruzada seja muito próximo de zero pelo lado negativo. Em outras palavras, se $\\hat y_i \\approx 1$, o erro indicado pela validação cruzada é aproximadamente zero.\n",
    "2. Se $\\hat y_i$ for algo muito próximo de $0$, ou seja, $\\hat y_i$ falha em prever $i$, então $\\log(\\hat y_i)$ se aproximará de $-\\infty$, o que indica que o erro está muito longe do ideal.\n",
    "\n",
    "Vale observar que tanto no caso 1, quanto no caso 2, a resposta será negativa, mas uma função de erro tem que ser positiva, sendo que erros muito altos indicam predições muito incorretas. Por conta disso, a fórmula da entropia cruzada binária tem um $-$ no início, garanta que não deixou passar este detalhe olhando a seguir.\n",
    "\n",
    "$$ -\\frac{1}{n} \\sum_{i=1}^n [y_i  \\log(\\hat y_i) + (1-y_i)  \\log(1-\\hat y_i) ]$$\n",
    "\n",
    "Vamos analisar agora o termo $(1-y_i)  \\log(1-\\hat y_i)$, que só é válido quando $y_i = 0$. É fácil notar que:\n",
    "\n",
    "1.  Se $\\hat y_i$ for algo muito próximo de $0$, ou seja, $\\hat y_i$ está tendo sucesso ao prever $i$, então $\\log(1 - \\hat y_i)$ se aproximará de zero, dado que $1 - \\hat y_i \\approx 1$, fazendo com que o retorno da entropia cruzada seja  muito próximo de zero pelo lado negativo. Em outras palavras, se $\\hat y_i \\approx 0$, o erro indicado pela validação cruzada é aproximadamente zero.\n",
    "2. Se $\\hat y_i$ for algo muito próximo de $1$, ou seja, $\\hat y_i$ falha em prever $i$, então $\\log(1 - \\hat y_i)$ se aproximará de $-\\infty$, dado que $1 - \\hat y_i \\approx 0$, o que indica que o erro está muito longe do ideal.\n",
    "\n",
    "Novamente, vale observar que ambos os casos possuem resposta negativa e novamente o valor será positivado pelo sinal de $-$ no início da entropia cruzada.\n",
    "\n",
    "Uma grande vantagem da *entropia cruzada* sobre o *erro quadrático médio* é que neste cenário binário o valor de erro vai de $0 .. \\infty$, enquanto que o valor do *erro quadrático médio* não passará de um. Por exemplo, vamos comparar as duas:"
   ]
  },
  {
   "cell_type": "code",
   "execution_count": null,
   "id": "b3eaaeae",
   "metadata": {},
   "outputs": [
    {
     "name": "stdout",
     "output_type": "stream",
     "text": [
      "y, y_pred, BCE, MSE\n",
      "0.0 0.0 0.0 0.0\n",
      "0.0 0.1 0.10536051541566849 0.010000000707805157\n",
      "0.0 0.2 0.2231435477733612 0.04000000283122063\n",
      "0.0 0.3 0.3566749691963196 0.09000000357627869\n",
      "0.0 0.4 0.5108256340026855 0.1600000113248825\n",
      "0.0 0.5 0.6931471824645996 0.25\n",
      "0.0 0.6 0.916290819644928 0.36000001430511475\n",
      "0.0 0.7 1.2039728164672852 0.4899999797344208\n",
      "0.0 0.8 1.6094379425048828 0.64000004529953\n",
      "0.0 0.9 2.3025848865509033 0.809999942779541\n",
      "1.0 0.0 100.0 1.0\n",
      "1.0 0.1 2.3025851249694824 0.809999942779541\n",
      "1.0 0.2 1.6094379425048828 0.64000004529953\n",
      "1.0 0.3 1.2039728164672852 0.4899999797344208\n",
      "1.0 0.4 0.9162907004356384 0.36000001430511475\n",
      "1.0 0.5 0.6931471824645996 0.25\n",
      "1.0 0.6 0.5108255743980408 0.15999998152256012\n",
      "1.0 0.7 0.3566749691963196 0.09000000357627869\n",
      "1.0 0.8 0.2231435328722 0.03999999538064003\n",
      "1.0 0.9 0.10536054521799088 0.010000004433095455\n"
     ]
    }
   ],
   "source": [
    "erro_entropia_cruzada = torch.nn.BCELoss()\n",
    "erro_quadratico_medio = torch.nn.MSELoss()\n",
    "\n",
    "print(\"y, y_pred, BCE, MSE\")\n",
    "for i in [0.0,1.0] :\n",
    "    y_real = torch.tensor([i])\n",
    "    for j in range(10) :\n",
    "        y_pred = torch.tensor([j/10])\n",
    "        bce = erro_entropia_cruzada(y_pred, y_real)\n",
    "        mse = erro_quadratico_medio(y_pred, y_real)\n",
    "        print(i, j/10,bce.item(),mse.item())"
   ]
  },
  {
   "cell_type": "markdown",
   "id": "a3ebcabb",
   "metadata": {},
   "source": [
    "Resumindo o que aprendemos, uma função de custo deve ser capaz de penalizar o modelo em caso de previsões erradas, gerando um valor de erro mais alto que resultará em um valor de gradiente mais alto. Entretanto, o erro quadrático médio não penaliza muito o modelo em um cenário da regressão logística. Idealmente, MSELoss deveria ser alto para previsões de classes erradas, mas isso não acontece, porque a regressão logística é usada para classificação e todos os valores de probabilidade  estão entre 0 e 1.\n",
    "\n",
    "Digamos que em um problema de classificação binária seu modelo prevê para uma resposta que deveria ser 1 uma probabilidade de $0.1$ (este é um exemplo claro de erro de classificação).\n",
    "\n",
    "\n",
    "Idealmente, para uma boa função de custo, o valor de penalização/erro deve ser alto, mas a MSELoss devolve $0.81$ como erro, algo muito menor do que a BCELoss que devolve $2.30$.\n",
    "\n",
    "Apesar da classificação incorreta, a MSELoss está penalizando o modelo com um valor menor em comparação com a BCELoss."
   ]
  },
  {
   "cell_type": "markdown",
   "id": "b2392033",
   "metadata": {},
   "source": [
    "## Aprofundando sobre a Função de Custo na Convergência\n",
    "\n",
    "Estudamos na seção anterior que  a função de custo *error quadrático médio* não parece ser superior à *entropia cruzada* por devolver valores de erro muito baixos para respostas notadamente incorretas. Nesta seção, vamos fornecer subsídios que reforçam ainda mais a ideia de que o *erro quadrátio médio* não é uma boa escolha. Vamos mostrar nesta seção apenas gráficos e exemplos e deixaremos para você a tarefa de interpretar os gráficos e convencer a si mesmo sobre os cenários que estão acontecendo.\n",
    "\n",
    "A seguir vamos plotar um gráfico da curva de erro em que o valor de $b$ foi fixado em $-15$ e o valor de $a$ será alterado de forma exaustiva no intervalo de 0 a 40. nesse caso, o erro se refere à variação nesse $a$.\n",
    "\n",
    "Vamos usar a função **MSELoss** já disponível no PyTorch para computar o erro."
   ]
  },
  {
   "cell_type": "code",
   "execution_count": null,
   "id": "be3fc9a5",
   "metadata": {},
   "outputs": [
    {
     "data": {
      "text/plain": [
       "[<matplotlib.lines.Line2D at 0x1659c64f0>]"
      ]
     },
     "execution_count": 85,
     "metadata": {},
     "output_type": "execute_result"
    },
    {
     "data": {
      "image/png": "[encoded data removed]",
      "text/plain": [
       "<Figure size 640x480 with 1 Axes>"
      ]
     },
     "metadata": {},
     "output_type": "display_data"
    }
   ],
   "source": [
    "eixo_erro = []\n",
    "eixo_a    = []\n",
    "b = -15\n",
    "\n",
    "loss_fn = torch.nn.MSELoss()\n",
    "\n",
    "## Variações propostas em a = [0 a 40].\n",
    "for a in range(-70,70) :\n",
    "    y_pred = 1 / (1 + torch.exp(-(a*xx+b)))\n",
    "    loss = loss_fn(y_pred.flatten(), y)\n",
    "\n",
    "    eixo_a.append(a)\n",
    "    eixo_erro.append(loss.item())\n",
    "\n",
    "\n",
    "# Vamos agora plotar a curva de erro e analisar o resultados:\n",
    "plt.plot(eixo_a, eixo_erro, 'r--', label='Erros')"
   ]
  },
  {
   "cell_type": "markdown",
   "id": "15d68020",
   "metadata": {},
   "source": [
    "Vamos agora usar a *entropia cruzada binária*. Veja como essa função de custo se comporta ao variarmos $a$ no mesmo intervalo anterior."
   ]
  },
  {
   "cell_type": "code",
   "execution_count": null,
   "id": "ee6a8536",
   "metadata": {},
   "outputs": [
    {
     "data": {
      "text/plain": [
       "[<matplotlib.lines.Line2D at 0x165af8e50>]"
      ]
     },
     "execution_count": 86,
     "metadata": {},
     "output_type": "execute_result"
    },
    {
     "data": {
      "image/png": "[encoded data removed]",
      "text/plain": [
       "<Figure size 640x480 with 1 Axes>"
      ]
     },
     "metadata": {},
     "output_type": "display_data"
    }
   ],
   "source": [
    "eixo_erro = []\n",
    "eixo_a    = []\n",
    "b = -15\n",
    "\n",
    "loss_fn = torch.nn.BCELoss()\n",
    "\n",
    "## Variações propostas em a = [0 a 40].\n",
    "for a in range(-70,70) :\n",
    "    y_pred = 1 / (1 + torch.exp(-(a*xx+b)))\n",
    "    loss = loss_fn(y_pred.flatten(), y)\n",
    "\n",
    "    eixo_a.append(a)\n",
    "    eixo_erro.append(loss.item())\n",
    "\n",
    "\n",
    "# Vamos agora plotar a curva de erro e analisar o resultados:\n",
    "plt.plot(eixo_a, eixo_erro, 'r--', label='Erros')"
   ]
  },
  {
   "cell_type": "markdown",
   "id": "08e50f80",
   "metadata": {},
   "source": [
    "**Exercício**\n",
    "\n",
    "Agora pense e responda as seguintes perguntas:\n",
    "\n",
    "1. O ponto mínimo poderia ser encontrado no *erro quadrático médio* saindo de $a = 50$, por exemplo?\n",
    "2. O ponto mínimo poderia ser encontrado na *entropia cruzada* saindo de $a = 50$, por exemplo?\n",
    "3. A entropia cruzada, segundo o gráfico acima, favorece a convergência em relação ao erro quadrático médio?"
   ]
  },
  {
   "cell_type": "markdown",
   "id": "597735f2",
   "metadata": {},
   "source": [
    "Vamos agora expandir o exemplo um pouco mais para deixar o valor de $b$ livre:"
   ]
  },
  {
   "cell_type": "code",
   "execution_count": null,
   "id": "2985b6ad",
   "metadata": {},
   "outputs": [
    {
     "data": {
      "text/plain": [
       "<matplotlib.collections.PathCollection at 0x165bc3190>"
      ]
     },
     "execution_count": 87,
     "metadata": {},
     "output_type": "execute_result"
    },
    {
     "data": {
      "image/png": "[encoded data removed]",
      "text/plain": [
       "<Figure size 640x480 with 1 Axes>"
      ]
     },
     "metadata": {},
     "output_type": "display_data"
    }
   ],
   "source": [
    "eixo_erro = []\n",
    "eixo_a    = []\n",
    "eixo_b    = []\n",
    "\n",
    "loss_fn = torch.nn.MSELoss()\n",
    "\n",
    "## Variações propostas em a = [0 a 40].\n",
    "for a in range(-40,40) :\n",
    "    for b in range(-40, 40) :\n",
    "        y_pred = 1 / (1 + torch.exp(-(a*xx+b)))\n",
    "        loss = loss_fn(y_pred.flatten(), y)\n",
    "\n",
    "        eixo_a.append(a)\n",
    "        eixo_b.append(b)\n",
    "        eixo_erro.append(loss.item())\n",
    "\n",
    "\n",
    "# Vamos agora plotar a curva de erro e analisar o resultados:\n",
    "plt.scatter(x = eixo_a, y = eixo_b, c = eixo_erro, cmap = \"viridis\", norm = 'symlog')\n",
    "\n",
    "## Veja o link a seguir para entender as opções de norm\n",
    "#### https://github.com/matplotlib/matplotlib/blob/v3.7.2/lib/matplotlib/scale.py#L694-L696\n",
    "\n",
    "## Veja o link a seguir para entender as cores de viridis\n",
    "#### https://cran.r-project.org/web/packages/viridis/vignettes/intro-to-viridis.html"
   ]
  },
  {
   "cell_type": "markdown",
   "id": "b2845443",
   "metadata": {},
   "source": [
    "**Exercício**\n",
    "\n",
    "Pense novamente, você acha que esta função de custo é boa? Você acha que a descida do gradiente conseguiria convergir para uma situação de erro mínimo independente do ponto de partida?\n"
   ]
  },
  {
   "cell_type": "markdown",
   "id": "7054c26b",
   "metadata": {},
   "source": [
    "A seguir, vamos plotar o gráfico da entropia cruzada nos mesmos intervalos de $a$ e $b$ acima pesquisados."
   ]
  },
  {
   "cell_type": "code",
   "execution_count": null,
   "id": "7595f226",
   "metadata": {},
   "outputs": [
    {
     "data": {
      "text/plain": [
       "<matplotlib.collections.PathCollection at 0x165c5adc0>"
      ]
     },
     "execution_count": 88,
     "metadata": {},
     "output_type": "execute_result"
    },
    {
     "data": {
      "image/png": "[encoded data removed]",
      "text/plain": [
       "<Figure size 640x480 with 1 Axes>"
      ]
     },
     "metadata": {},
     "output_type": "display_data"
    }
   ],
   "source": [
    "eixo_erro = []\n",
    "eixo_a    = []\n",
    "eixo_b    = []\n",
    "\n",
    "loss_fn = torch.nn.BCELoss()\n",
    "\n",
    "## Variações propostas em a = [0 a 40].\n",
    "for a in range(-40,40) :\n",
    "    for b in range(-40, 40) :\n",
    "        y_pred = 1 / (1 + torch.exp(-(a*xx+b)))\n",
    "        loss = loss_fn(y_pred.flatten(), y)\n",
    "\n",
    "        eixo_a.append(a)\n",
    "        eixo_b.append(b)\n",
    "        eixo_erro.append(loss.item())\n",
    "\n",
    "\n",
    "# Vamos agora plotar a curva de erro e analisar o resultados:\n",
    "plt.scatter(x = eixo_a, y = eixo_b, c = eixo_erro, cmap = \"viridis\", norm = 'symlog')"
   ]
  },
  {
   "cell_type": "markdown",
   "id": "a5fd8843",
   "metadata": {},
   "source": [
    "**Exercício**\n",
    "\n",
    "Agora pense e responda: **a entropia cruzada, segundo o gráfico acima, favorece a convergência em relação ao erro quadrático médio?**"
   ]
  },
  {
   "cell_type": "markdown",
   "id": "cfe76ef2",
   "metadata": {},
   "source": [
    "## Descida do Gradiente com Regressão Logística\n",
    "\n",
    "Note que estamos interpretando a regressão logística da seguinte forma: \n",
    "\n",
    "**A regressão logística é igual à regressão linear, mas com uma função sigmóide aplicada ao final do resultado**.\n",
    "\n",
    "Além disso, se você analisou bem a seção anterior, deve ter percebido que a entropia cruzada binária é uma opção melhor do que o erro quadrático médio. Não estamos dizendo aqui que o erro quadrático médio jamais convergeria. Na verdade, para este nosso exemplo mostrado neste notebook, o erro quadrático médio forneceria um resultado similar ao da entropia cruzada, só  precisando de mais épocas. \n",
    "\n",
    "Entretanto, a função de custo entropia cruzada é mais apropriada tanto pela análise que você próprio conduziu na seção anterior, quanto por outros motivos mais técnicos que fogem ao escopo deste notebook."
   ]
  },
  {
   "cell_type": "markdown",
   "id": "2b1d36f7",
   "metadata": {},
   "source": [
    "Para treinar a regressão logística, vamos primeiro definir o $a$ e $b$ que serão os únicos parâmetros a serem treinados. Lembrando que a equação que treinaremos será:\n",
    "\n",
    "$$f(x) = \\frac{1}{1 + e^{- (a \\times x + b) }}$$\n",
    "\n"
   ]
  },
  {
   "cell_type": "code",
   "execution_count": null,
   "id": "5d037273",
   "metadata": {},
   "outputs": [],
   "source": [
    "## As variáveis a, b de ax+b estão a seguir\n",
    "## inicializado ao acaso\n",
    "a = torch.rand(1, requires_grad=True)\n",
    "b = torch.rand(1, requires_grad=True)"
   ]
  },
  {
   "cell_type": "markdown",
   "id": "bce34372",
   "metadata": {},
   "source": [
    "Vamos agora configurar a função de custo *entropia cruzada binária*."
   ]
  },
  {
   "cell_type": "code",
   "execution_count": null,
   "id": "3df45c06",
   "metadata": {},
   "outputs": [],
   "source": [
    "## Configurando a loss\n",
    "loss_fn = torch.nn.BCELoss()"
   ]
  },
  {
   "cell_type": "markdown",
   "id": "f6f68959",
   "metadata": {},
   "source": [
    "Vamos executar um conjunto de 10000 épocas. Além disso, seguiremos um esquema em que a taxa de aprendizado começará bem alta ($0.5$) e irá decrescer 10 vezes no decorrer do treinamento.\n",
    "\n",
    "No código a seguir, preste atenção no modo como a predição é feita, simplesmente aplicando a função da regressão logística. Além disso,  preste atenção na computação das derivadas com **backward** e na atualização dos pesos, feita simplesmente sutraindo pela derivada multiplicada pela taxa de aprendizado.."
   ]
  },
  {
   "cell_type": "code",
   "execution_count": null,
   "id": "db69a9bc",
   "metadata": {},
   "outputs": [
    {
     "name": "stdout",
     "output_type": "stream",
     "text": [
      "0 0.6649953126907349\n",
      "1000 0.27161359786987305\n",
      "2000 0.20812256634235382\n",
      "3000 0.18382325768470764\n",
      "4000 0.17133641242980957\n",
      "5000 0.16397899389266968\n",
      "6000 0.15934011340141296\n",
      "7000 0.15635058283805847\n",
      "8000 0.1544778048992157\n",
      "9000 0.15344388782978058\n"
     ]
    }
   ],
   "source": [
    "# Configurando a taxa de aprendizado.\n",
    "# Vamos deixar um valor alto como sendo\n",
    "# o máximo que a taxa de aprendizado\n",
    "# pode receber. Daí, vamos construir\n",
    "# a taxa dentro do laço\n",
    "max_learning_rate = 0.5\n",
    "\n",
    "epochs = 10000\n",
    "for t in range(epochs):\n",
    "\n",
    "    # Gerando taxa de aprendizado.\n",
    "    learning_rate = max_learning_rate * (1 - t/epochs)\n",
    "    \n",
    "    # Forward pass: colocaremos a função logística diretamente\n",
    "    y_pred = 1 / (1 + torch.exp(-(a*xx+b)))\n",
    "\n",
    "    # Computa e imprime o erro. Passamos tensores contendo os valores preditos e\n",
    "    # os valores reais e a loss retorna um tensor contendo o erro.\n",
    "    loss = loss_fn(y_pred.flatten(), y)\n",
    "    \n",
    "    ## Imprimindo dez vezes a loss\n",
    "    if t % (epochs / 10) == 0 :\n",
    "        print(t, loss.item())\n",
    "    #print(y_pred)\n",
    "\n",
    "    # Backward pass:  computar o gradiente da loss em relação a todos os\n",
    "    # coeficientes a serem aprendidos no modelo.\n",
    "    loss.backward()\n",
    "\n",
    "    # Atualizar os pesos usando a descida por gradiente, como fizemos anteriormente.\n",
    "    # Cada parâmetro é um Tensor,então podemos acessar seus gradientes como\n",
    "    # fizemos antes.\n",
    "    a.data -= learning_rate * a.grad.data\n",
    "    b.data -= learning_rate * b.grad.data\n",
    "    \n",
    "    # Limpamos os gradientes antes da próxima iteração\n",
    "    a.grad.data.zero_()\n",
    "    b.grad.data.zero_()\n"
   ]
  },
  {
   "cell_type": "markdown",
   "id": "3c6b14b6",
   "metadata": {},
   "source": [
    "Vamos plotar o gráfico do nosso oráculo."
   ]
  },
  {
   "cell_type": "code",
   "execution_count": null,
   "id": "6b3f58ed",
   "metadata": {},
   "outputs": [
    {
     "name": "stdout",
     "output_type": "stream",
     "text": [
      "tensor([22.0346], requires_grad=True) tensor([-15.4885], requires_grad=True)\n"
     ]
    },
    {
     "data": {
      "image/png": "[encoded data removed]",
      "text/plain": [
       "<Figure size 640x480 with 1 Axes>"
      ]
     },
     "metadata": {},
     "output_type": "display_data"
    }
   ],
   "source": [
    "## Plotando os gráficos    \n",
    "faithful.plot.scatter(x='waiting',\n",
    "                      y='eruptions_bin')    \n",
    "\n",
    "# Gerando eixo_x\n",
    "eixo_x = torch.tensor(range(40,100,2))\n",
    "\n",
    "## Obtendo o eixo_y para esses valores\n",
    "eixo_y = 1 / (1 + torch.exp(-(a*eixo_x/maximo+b)))\n",
    "\n",
    "## Plotando a reta    \n",
    "plt.plot(eixo_x.tolist(), eixo_y.tolist(), 'r--', label='Valores Obtidos')\n",
    "\n",
    "print(a,b)"
   ]
  },
  {
   "cell_type": "markdown",
   "id": "0a401bff",
   "metadata": {},
   "source": [
    "## Recaptulando\n",
    "\n",
    "Nesta aula, aprendemos a utilizar o PyTorch, uma biblioteca que nos ajudará muito no propósito de escrever oráculos. O PyTorch nos fornece duas funcionalidades principais.\n",
    "\n",
    "1. Uma estrutura de dados Tensor que permite agrupar os dados de maneira eficiente e melhora a legibilidade do código, dado que podemos escrever funções menores e com menos laços de repetição.\n",
    "\n",
    "2. Um mecanismo para computar as derivadas automaticamente (autograd). \n",
    "\n",
    "Também avançamos no conhecimento teóricos sobre construção de oráculos com a adição em nosso arsenal da regressão logística, que difere da regressão linear nos seguintes aspectos:\n",
    "\n",
    "1. A regressão logística permite obter oráculos quando o que queremos obter são dados categóricos. No exemplo da aula, os nossos dados eram binários, mas podemos ampliar esse conceito para qualquer quantidade de classes.\n",
    "\n",
    "2. A regressão logística aplica uma função sigmóide na saída da rede, cujo resultado está no intervalo $[0..1]$ e pode ser interpretado como uma probabilidade.\n",
    "\n",
    "3. A regressão logística usa como função de custo a entropia cruzada, mais adaptada para esta estratégia."
   ]
  }
 ],
 "metadata": {
  "kernelspec": {
   "display_name": "torch",
   "language": "python",
   "name": "python3"
  },
  "language_info": {
   "codemirror_mode": {
    "name": "ipython",
    "version": 3
   },
   "file_extension": ".py",
   "mimetype": "text/x-python",
   "name": "python",
   "nbconvert_exporter": "python",
   "pygments_lexer": "ipython3",
   "version": "3.11.3"
  }
 },
 "nbformat": 4,
 "nbformat_minor": 5
}

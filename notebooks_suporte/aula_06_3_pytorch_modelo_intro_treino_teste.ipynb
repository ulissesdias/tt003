{
  "nbformat": 4,
  "nbformat_minor": 0,
  "metadata": {
    "colab": {
      "provenance": [],
      "gpuType": "T4"
    },
    "kernelspec": {
      "name": "python3",
      "display_name": "Python 3"
    },
    "language_info": {
      "name": "python"
    },
    "accelerator": "GPU"
  },
  "cells": [
    {
      "cell_type": "code",
      "execution_count": null,
      "metadata": {
        "colab": {
          "base_uri": "https://localhost:8080/"
        },
        "id": "6j6aUu3vkJee",
        "outputId": "85d4145b-950e-499a-9b2b-ff6957b9d73c"
      },
      "outputs": [
        {
          "output_type": "stream",
          "name": "stdout",
          "text": [
            "Mounted at /content/drive\n"
          ]
        }
      ],
      "source": [
        "## Montando drive para pegar as pastas\n",
        "from google.colab import drive\n",
        "drive.mount('/content/drive')\n"
      ]
    },
    {
      "cell_type": "markdown",
      "source": [
        "# Criando Hierarquia de Pastas"
      ],
      "metadata": {
        "id": "7EkLeLEKpgMk"
      }
    },
    {
      "cell_type": "code",
      "source": [
        "## Procurando a pasta\n",
        "!ls '/content/drive/MyDrive/Colab Notebooks/fruits'"
      ],
      "metadata": {
        "colab": {
          "base_uri": "https://localhost:8080/"
        },
        "id": "yoJzJJQSlpf5",
        "outputId": "16565fcc-17f6-4ac1-abd9-2479d6e77411"
      },
      "execution_count": null,
      "outputs": [
        {
          "output_type": "stream",
          "name": "stdout",
          "text": [
            "apple  banana  cherry  chickoo\tgrapes\tkiwi  mango  orange  strawberry\n"
          ]
        }
      ]
    },
    {
      "cell_type": "code",
      "source": [
        "## Organizando as pastas de treino e teste no drive\n",
        "data_dir = '/content/drive/MyDrive/Colab Notebooks/fruits' # Dados originais\n",
        "\n",
        "train_dir = '/content/drive/MyDrive/fruits-dataset/train' #\n",
        "test_dir = '/content/drive/MyDrive/fruits-dataset/test' #"
      ],
      "metadata": {
        "id": "l1FwAxL_mOV8"
      },
      "execution_count": null,
      "outputs": []
    },
    {
      "cell_type": "code",
      "source": [
        "## Criando arquivos\n",
        "import os\n",
        "import shutil\n",
        "from pathlib import Path ## Achar caminhos e fazer listagens\n",
        "\n",
        "## Criando os diretórios\n",
        "Path(train_dir).mkdir(parents=True, exist_ok=True)\n",
        "Path(test_dir).mkdir(parents=True, exist_ok=True)"
      ],
      "metadata": {
        "id": "yDw1MQeInSVx"
      },
      "execution_count": null,
      "outputs": []
    },
    {
      "cell_type": "code",
      "source": [
        "!ls '/content/drive/MyDrive/fruits-dataset/train'"
      ],
      "metadata": {
        "id": "uOFj54cnoaKb"
      },
      "execution_count": null,
      "outputs": []
    },
    {
      "cell_type": "code",
      "source": [
        "classes = os.listdir(data_dir) ## Armazena os rótulos\n",
        "for cls in classes:\n",
        "    cls_train = os.path.join(train_dir, cls)\n",
        "    cls_test  = os.path.join(test_dir, cls)\n",
        "\n",
        "    Path(cls_train).mkdir(parents=True, exist_ok=True)\n",
        "    Path(cls_test).mkdir(parents=True, exist_ok=True)"
      ],
      "metadata": {
        "id": "040StuGzohCH"
      },
      "execution_count": null,
      "outputs": []
    },
    {
      "cell_type": "code",
      "source": [
        "!ls '/content/drive/MyDrive/fruits-dataset/train'"
      ],
      "metadata": {
        "colab": {
          "base_uri": "https://localhost:8080/"
        },
        "id": "0mIlf0bOpWM3",
        "outputId": "b7f23cf6-425b-4afa-b705-52f99089eb0b"
      },
      "execution_count": null,
      "outputs": [
        {
          "output_type": "stream",
          "name": "stdout",
          "text": [
            "apple  banana  cherry  chickoo\tgrapes\tkiwi  mango  orange  strawberry\n"
          ]
        }
      ]
    },
    {
      "cell_type": "code",
      "source": [
        "!ls '/content/drive/MyDrive/fruits-dataset/test'"
      ],
      "metadata": {
        "colab": {
          "base_uri": "https://localhost:8080/"
        },
        "id": "hR63xmubpW58",
        "outputId": "8ea85b66-be30-4a25-e169-c648df832394"
      },
      "execution_count": null,
      "outputs": [
        {
          "output_type": "stream",
          "name": "stdout",
          "text": [
            "apple  banana  cherry  chickoo\tgrapes\tkiwi  mango  orange  strawberry\n"
          ]
        }
      ]
    },
    {
      "cell_type": "markdown",
      "source": [
        "# Divisão dos Dados em Treino e Teste"
      ],
      "metadata": {
        "id": "kYm3QjrmpjQf"
      }
    },
    {
      "cell_type": "code",
      "source": [
        "from posix import close\n",
        "from sklearn.model_selection import train_test_split\n",
        "\n",
        "for cls in classes:\n",
        "    cls_dir = os.path.join(data_dir, cls)\n",
        "    images = os.listdir(cls_dir) ## Listando imagens dentro do arquivo original\n",
        "\n",
        "    train_images, test_images = train_test_split(images, test_size=0.2, random_state=42)\n",
        "\n",
        "    for image in train_images:\n",
        "        src = os.path.join(cls_dir, image)\n",
        "        dst = os.path.join(train_dir, cls, image)\n",
        "        shutil.copyfile(src, dst)\n",
        "\n",
        "    for image in test_images:\n",
        "        src = os.path.join(cls_dir, image)\n",
        "        dst = os.path.join(test_dir, cls, image)\n",
        "        shutil.copyfile(src, dst)"
      ],
      "metadata": {
        "id": "en7AoAE6pmAz"
      },
      "execution_count": null,
      "outputs": []
    },
    {
      "cell_type": "markdown",
      "source": [
        "# Gerando PyTorch DataSet e DataLoader\n",
        "\n",
        "Precisamos criar um transform"
      ],
      "metadata": {
        "id": "evTNKNJtsWMU"
      }
    },
    {
      "cell_type": "code",
      "source": [
        "from torchvision import transforms, datasets\n",
        "\n",
        "transform = transforms.Compose([\n",
        "    transforms.Resize((128, 128)),\n",
        "    transforms.ToTensor(),\n",
        "])"
      ],
      "metadata": {
        "id": "7gGedhtssnxj"
      },
      "execution_count": null,
      "outputs": []
    },
    {
      "cell_type": "code",
      "source": [
        "from torch.utils.data import DataLoader\n",
        "\n",
        "train_dataset = datasets.ImageFolder(train_dir, transform=transform)\n",
        "test_dataset = datasets.ImageFolder(test_dir, transform=transform)\n",
        "\n",
        "train_loader = DataLoader(train_dataset, batch_size=32, shuffle=True)\n",
        "test_loader = DataLoader(test_dataset, batch_size=32, shuffle=False)"
      ],
      "metadata": {
        "id": "_iE7PcahtfI5"
      },
      "execution_count": null,
      "outputs": []
    },
    {
      "cell_type": "markdown",
      "source": [
        "# Definindo uma CNN From Scratch"
      ],
      "metadata": {
        "id": "FtV291C0u4e1"
      }
    },
    {
      "cell_type": "code",
      "source": [
        "import torch.nn as nn\n",
        "import torch.nn.functional as F\n",
        "\n",
        "class SimpleCNN(nn.Module):\n",
        "    def __init__(self) -> None:\n",
        "        super(SimpleCNN, self).__init__()\n",
        "        self.conv1 = nn.Conv2d(3,32, kernel_size=3, stride = 1, padding=1)\n",
        "        self.conv2 = nn.Conv2d(32,64, kernel_size=3, stride = 1, padding=1)\n",
        "        self.pool = nn.MaxPool2d(kernel_size=2, stride=2, padding = 0)\n",
        "        self.fc1 = nn.Linear(64*32*32, 512)\n",
        "        self.fc2 = nn.Linear(512, len(classes))\n",
        "\n",
        "    def forward(self, x):\n",
        "        x = self.pool(F.relu(self.conv1(x)))\n",
        "        x = self.pool(F.relu(self.conv2(x)))\n",
        "\n",
        "        x = x.view(-1, 64*32*32)\n",
        "        x = F.relu(self.fc1(x))\n",
        "        x = self.fc2(x)\n",
        "\n",
        "        return x\n",
        "\n",
        "model_scratch = SimpleCNN().to('cuda')"
      ],
      "metadata": {
        "id": "ZHrseZSGyDxG"
      },
      "execution_count": null,
      "outputs": []
    },
    {
      "cell_type": "markdown",
      "source": [
        "# Definindo a Função de Custo e Otimizador"
      ],
      "metadata": {
        "id": "yJcR779iz29a"
      }
    },
    {
      "cell_type": "code",
      "source": [
        "import torch.optim as optim\n",
        "\n",
        "criterion = nn.CrossEntropyLoss()\n",
        "optimizer = optim.Adam(model_scratch.parameters(),lr=0.001)"
      ],
      "metadata": {
        "id": "I1Gpc_jS0Ccl"
      },
      "execution_count": null,
      "outputs": []
    },
    {
      "cell_type": "markdown",
      "source": [
        "# Efetuando o Treinamento"
      ],
      "metadata": {
        "id": "kD9CxJTg0bBq"
      }
    },
    {
      "cell_type": "code",
      "source": [
        "def train_model(model, epochs):\n",
        "    model.train()  # Entrando no modo de treino\n",
        "    for epoch in range(epochs):\n",
        "        running_loss = 0.0\n",
        "\n",
        "        # Iterando sobre os batches de dados\n",
        "        for x_batch, y_batch in train_loader:\n",
        "            # Resetando os gradientes\n",
        "            optimizer.zero_grad()\n",
        "\n",
        "            # Forward pass\n",
        "            y_pred = model(x_batch.to('cuda'))\n",
        "\n",
        "            # Calculando o erro\n",
        "            loss = criterion(y_pred.to('cpu'), y_batch)\n",
        "\n",
        "            # Backward pass (backpropagation)\n",
        "            loss.backward()\n",
        "\n",
        "            # Atualizando os parâmetros\n",
        "            optimizer.step()\n",
        "\n",
        "            running_loss += loss.item()\n",
        "\n",
        "        print(f\"Epoch {epoch+1}/{epochs}, Loss: {running_loss/len(train_loader):.4f}\")\n",
        "\n",
        "# Treinando o modelo por 10000 épocas\n",
        "train_model(model_scratch, 10)"
      ],
      "metadata": {
        "colab": {
          "base_uri": "https://localhost:8080/"
        },
        "id": "DOoKckXc0lIg",
        "outputId": "9e94db5c-b2a3-42fa-85c2-2a0ec54e20a4"
      },
      "execution_count": null,
      "outputs": [
        {
          "output_type": "stream",
          "name": "stderr",
          "text": [
            "/usr/local/lib/python3.10/dist-packages/torch/autograd/graph.py:769: UserWarning: Attempting to run cuBLAS, but there was no current CUDA context! Attempting to set the primary context... (Triggered internally at ../aten/src/ATen/cuda/CublasHandlePool.cpp:135.)\n",
            "  return Variable._execution_engine.run_backward(  # Calls into the C++ engine to run the backward pass\n"
          ]
        },
        {
          "output_type": "stream",
          "name": "stdout",
          "text": [
            "Epoch 1/10, Loss: 3.3326\n",
            "Epoch 2/10, Loss: 1.9954\n",
            "Epoch 3/10, Loss: 1.6672\n",
            "Epoch 4/10, Loss: 1.3426\n",
            "Epoch 5/10, Loss: 1.0152\n",
            "Epoch 6/10, Loss: 0.7862\n",
            "Epoch 7/10, Loss: 0.6042\n",
            "Epoch 8/10, Loss: 0.3940\n",
            "Epoch 9/10, Loss: 0.2881\n",
            "Epoch 10/10, Loss: 0.2615\n"
          ]
        }
      ]
    },
    {
      "cell_type": "markdown",
      "source": [
        "# Definindo um Modelo para Transfer Learning"
      ],
      "metadata": {
        "id": "oaBTfPoU2mpt"
      }
    },
    {
      "cell_type": "code",
      "source": [
        "from torchvision import models\n",
        "\n",
        "model_transfer = models.resnet18(pretrained=True)"
      ],
      "metadata": {
        "id": "X94d24jq2peC"
      },
      "execution_count": null,
      "outputs": []
    },
    {
      "cell_type": "code",
      "source": [
        "# Congelar os Pesos da resnet18\n",
        "for param in model_transfer.parameters():\n",
        "    param.requires_grad = False"
      ],
      "metadata": {
        "id": "2lnczfZF227C"
      },
      "execution_count": null,
      "outputs": []
    },
    {
      "cell_type": "code",
      "source": [
        "# Trocar última camada\n",
        "num_ftrs = model_transfer.fc.in_features\n",
        "\n",
        "# Substituir a camada de saída\n",
        "model_transfer.fc = nn.Linear(num_ftrs, len(classes))"
      ],
      "metadata": {
        "id": "cWvf193b3FtS"
      },
      "execution_count": null,
      "outputs": []
    },
    {
      "cell_type": "markdown",
      "source": [
        "# Criando um Otimizador para a Transferência de Aprendizado"
      ],
      "metadata": {
        "id": "QoMgZ2O24VMU"
      }
    },
    {
      "cell_type": "code",
      "source": [
        "optimizer = optim.Adam(model_transfer.fc.parameters(), lr=0.001)"
      ],
      "metadata": {
        "id": "whENL0XV4ZGR"
      },
      "execution_count": null,
      "outputs": []
    },
    {
      "cell_type": "code",
      "source": [
        "model_transfer = model_transfer.to('cuda')"
      ],
      "metadata": {
        "id": "j1m8bwCu5Pci"
      },
      "execution_count": null,
      "outputs": []
    },
    {
      "cell_type": "code",
      "source": [
        "train_model(model_transfer, 10)"
      ],
      "metadata": {
        "colab": {
          "base_uri": "https://localhost:8080/"
        },
        "id": "bTA9PTr24_Nb",
        "outputId": "7cdb7905-c889-406d-c390-fe2f35247042"
      },
      "execution_count": null,
      "outputs": [
        {
          "output_type": "stream",
          "name": "stdout",
          "text": [
            "Epoch 1/10, Loss: 2.1251\n",
            "Epoch 2/10, Loss: 1.5179\n",
            "Epoch 3/10, Loss: 1.0968\n",
            "Epoch 4/10, Loss: 0.8881\n",
            "Epoch 5/10, Loss: 0.7206\n",
            "Epoch 6/10, Loss: 0.6271\n",
            "Epoch 7/10, Loss: 0.5206\n",
            "Epoch 8/10, Loss: 0.4864\n",
            "Epoch 9/10, Loss: 0.4441\n",
            "Epoch 10/10, Loss: 0.3871\n"
          ]
        }
      ]
    },
    {
      "cell_type": "markdown",
      "source": [
        "# Computando Acurácias dos Modelos"
      ],
      "metadata": {
        "id": "G_NKqV0e5aGO"
      }
    },
    {
      "cell_type": "code",
      "source": [
        "from sklearn.metrics import accuracy_score\n",
        "import torch\n",
        "\n",
        "def calculate_accuracy(model, test_loader) :\n",
        "    model.eval()\n",
        "\n",
        "    y_true = []\n",
        "    y_pred = []\n",
        "\n",
        "    with torch.no_grad() :\n",
        "        for images, labels in test_loader :\n",
        "            images = images.to('cuda')\n",
        "            labels = labels.to('cuda')\n",
        "\n",
        "            outputs = model(images)\n",
        "            _, predicted = torch.max(outputs, 1)\n",
        "\n",
        "            y_true.extend(labels.cpu().numpy())\n",
        "            y_pred.extend(predicted.cpu().numpy())\n",
        "\n",
        "    return accuracy_score(y_true, y_pred)"
      ],
      "metadata": {
        "id": "RECjhlXh5ebt"
      },
      "execution_count": null,
      "outputs": []
    },
    {
      "cell_type": "code",
      "source": [
        "accuracy_score_scratch = calculate_accuracy(model_scratch, test_loader)\n",
        "accuracy_score_transfer = calculate_accuracy(model_transfer, test_loader)\n",
        "\n",
        "print(f\"Accuracy Score Scratch: {accuracy_score_scratch}\")\n",
        "print(f\"Accuracy Score Transfer: {accuracy_score_transfer}\")"
      ],
      "metadata": {
        "colab": {
          "base_uri": "https://localhost:8080/"
        },
        "id": "TMuIXhpr62wc",
        "outputId": "c0e5f585-ae76-4873-9445-7db36122d180"
      },
      "execution_count": null,
      "outputs": [
        {
          "output_type": "stream",
          "name": "stdout",
          "text": [
            "Accuracy Score Scratch: 0.5416666666666666\n",
            "Accuracy Score Transfer: 0.8611111111111112\n"
          ]
        }
      ]
    },
    {
      "cell_type": "code",
      "source": [
        "instancia_de_teste = torch.rand(3, 3, 128, 128).to('cuda')"
      ],
      "metadata": {
        "id": "XI_koykl8iT4"
      },
      "execution_count": null,
      "outputs": []
    },
    {
      "cell_type": "code",
      "source": [
        "torch.max(model_transfer(instancia_de_teste), 1)"
      ],
      "metadata": {
        "colab": {
          "base_uri": "https://localhost:8080/"
        },
        "id": "sY3UacpB8yDH",
        "outputId": "721cb6d7-e1f2-4009-a154-d3cc7dd2008b"
      },
      "execution_count": null,
      "outputs": [
        {
          "output_type": "execute_result",
          "data": {
            "text/plain": [
              "torch.return_types.max(\n",
              "values=tensor([0.2796, 0.4237, 0.6647], device='cuda:0', grad_fn=<MaxBackward0>),\n",
              "indices=tensor([4, 4, 4], device='cuda:0'))"
            ]
          },
          "metadata": {},
          "execution_count": 26
        }
      ]
    },
    {
      "cell_type": "code",
      "source": [
        "classes[4]"
      ],
      "metadata": {
        "colab": {
          "base_uri": "https://localhost:8080/",
          "height": 35
        },
        "id": "7BCaTIrd9B1U",
        "outputId": "c784d437-1cd3-4d59-e5c3-0cda0839248b"
      },
      "execution_count": null,
      "outputs": [
        {
          "output_type": "execute_result",
          "data": {
            "text/plain": [
              "'chickoo'"
            ],
            "application/vnd.google.colaboratory.intrinsic+json": {
              "type": "string"
            }
          },
          "metadata": {},
          "execution_count": 27
        }
      ]
    }
  ]
}